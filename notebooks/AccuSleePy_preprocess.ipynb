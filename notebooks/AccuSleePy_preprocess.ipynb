{
 "cells": [
  {
   "cell_type": "markdown",
   "id": "bc0ab306",
   "metadata": {},
   "source": [
    "This notebook provides code snippets to identify and remove disconnect (and potentially motion) related artifacts in your recordings so that they can be ignored during post-processing."
   ]
  },
  {
   "cell_type": "code",
   "execution_count": 1,
   "id": "1c62d5e2",
   "metadata": {
    "scrolled": true
   },
   "outputs": [],
   "source": [
    "# Import all the functions you need\n",
    "%load_ext autoreload\n",
    "%autoreload 2\n",
    "\n",
    "import numpy as np\n",
    "import matplotlib.pyplot as plt\n",
    "import seaborn as sns\n",
    "import pandas as pd\n",
    "import sys\n",
    "from pathlib import Path\n",
    "\n",
    "# Comment here to add in for either mac or linux computer\n",
    "# sys.path.extend(['/Users/nkinsky/Documents/UM/GitHub/NeuroPy'])  # For mac laptop\n",
    "sys.path.extend(['/data/GitHub/NeuroPy'])  # for linux\n",
    "\n",
    "from neuropy import core\n",
    "from neuropy.io import (optitrackio,\n",
    "                        dlcio,\n",
    "                        )\n",
    "from neuropy.io.neuroscopeio import NeuroscopeIO\n",
    "from neuropy.io.binarysignalio import BinarysignalIO \n",
    "from neuropy.io.miniscopeio import MiniscopeIO\n",
    "from neuropy.core.session import ProcessData\n",
    "from neuropy.core.signal import Signal\n",
    "\n",
    "plt.rcParams['pdf.fonttype'] = 42\n"
   ]
  },
  {
   "cell_type": "code",
   "execution_count": 2,
   "id": "258b9191",
   "metadata": {
    "scrolled": true
   },
   "outputs": [
    {
     "name": "stdout",
     "output_type": "stream",
     "text": [
      "filename: /data/Clustering/sessions/RatU/RatUNSD_sleep_score_test/RatU_Day2NSD_2021-07-24_08-16-38.theta_sw_ch_only.xml \n",
      "# channels: 2\n",
      "sampling rate: 30000\n",
      "lfp Srate (downsampled): 1250\n",
      "\n"
     ]
    }
   ],
   "source": [
    "base_dir = Path(\"/data/Clustering/sessions/RatU/RatUNSD_sleep_score_test\")\n",
    "sess = ProcessData(base_dir)\n",
    "print(sess.recinfo)"
   ]
  },
  {
   "cell_type": "code",
   "execution_count": 3,
   "id": "80fb1e0f",
   "metadata": {},
   "outputs": [
    {
     "name": "stdout",
     "output_type": "stream",
     "text": [
      "duration: 48498.53 seconds \n",
      "duration: 13.47 hours \n",
      "\n"
     ]
    }
   ],
   "source": [
    "print(sess.eegfile)"
   ]
  },
  {
   "cell_type": "markdown",
   "id": "51f4b89f-aa76-4a32-beb2-69983b41b282",
   "metadata": {},
   "source": [
    "## Wrangle EEG and EMG data into AccuSleePy format"
   ]
  },
  {
   "cell_type": "markdown",
   "id": "8b62e066-3791-4005-86d4-75c8089ee3ed",
   "metadata": {},
   "source": [
    "### Load in EMG and EEG data"
   ]
  },
  {
   "cell_type": "code",
   "execution_count": 4,
   "id": "def96d35-d6f9-40f0-870e-4150ab92f576",
   "metadata": {},
   "outputs": [],
   "source": [
    "eeg = sess.eegfile.get_signal(0)  # grab from channel 0, in this case the electrode in the pyramidal cell layer\n",
    "emg = Signal.from_dict(np.load(sorted(base_dir.glob(\"*.emg.npy\"))[0], allow_pickle=True).item())"
   ]
  },
  {
   "cell_type": "markdown",
   "id": "20328553-2809-461d-81d2-32406abf18d8",
   "metadata": {},
   "source": [
    "### Interpoloate EMG to match eeg data"
   ]
  },
  {
   "cell_type": "code",
   "execution_count": 5,
   "id": "81f443d4-c28f-4506-ae4c-cb0beb933b2b",
   "metadata": {},
   "outputs": [],
   "source": [
    "emg_interp = np.interp(eeg.time, emg.time, emg.traces[0])"
   ]
  },
  {
   "cell_type": "markdown",
   "id": "a7e26839-0b5b-4698-a51a-4d7ba53693e3",
   "metadata": {},
   "source": [
    "### Convert into DataFrame"
   ]
  },
  {
   "cell_type": "code",
   "execution_count": 6,
   "id": "8809fcd3-c94c-485a-bf45-bdf1f1a090ee",
   "metadata": {},
   "outputs": [
    {
     "data": {
      "text/html": [
       "<div>\n",
       "<style scoped>\n",
       "    .dataframe tbody tr th:only-of-type {\n",
       "        vertical-align: middle;\n",
       "    }\n",
       "\n",
       "    .dataframe tbody tr th {\n",
       "        vertical-align: top;\n",
       "    }\n",
       "\n",
       "    .dataframe thead th {\n",
       "        text-align: right;\n",
       "    }\n",
       "</style>\n",
       "<table border=\"1\" class=\"dataframe\">\n",
       "  <thead>\n",
       "    <tr style=\"text-align: right;\">\n",
       "      <th></th>\n",
       "      <th>eeg</th>\n",
       "      <th>emg</th>\n",
       "    </tr>\n",
       "  </thead>\n",
       "  <tbody>\n",
       "    <tr>\n",
       "      <th>0</th>\n",
       "      <td>207</td>\n",
       "      <td>0.544728</td>\n",
       "    </tr>\n",
       "    <tr>\n",
       "      <th>1</th>\n",
       "      <td>569</td>\n",
       "      <td>0.544728</td>\n",
       "    </tr>\n",
       "    <tr>\n",
       "      <th>2</th>\n",
       "      <td>506</td>\n",
       "      <td>0.544728</td>\n",
       "    </tr>\n",
       "    <tr>\n",
       "      <th>3</th>\n",
       "      <td>510</td>\n",
       "      <td>0.544728</td>\n",
       "    </tr>\n",
       "    <tr>\n",
       "      <th>4</th>\n",
       "      <td>721</td>\n",
       "      <td>0.544728</td>\n",
       "    </tr>\n",
       "    <tr>\n",
       "      <th>...</th>\n",
       "      <td>...</td>\n",
       "      <td>...</td>\n",
       "    </tr>\n",
       "    <tr>\n",
       "      <th>60623162</th>\n",
       "      <td>-48</td>\n",
       "      <td>0.411182</td>\n",
       "    </tr>\n",
       "    <tr>\n",
       "      <th>60623163</th>\n",
       "      <td>397</td>\n",
       "      <td>0.411494</td>\n",
       "    </tr>\n",
       "    <tr>\n",
       "      <th>60623164</th>\n",
       "      <td>522</td>\n",
       "      <td>0.411805</td>\n",
       "    </tr>\n",
       "    <tr>\n",
       "      <th>60623165</th>\n",
       "      <td>362</td>\n",
       "      <td>0.412117</td>\n",
       "    </tr>\n",
       "    <tr>\n",
       "      <th>60623166</th>\n",
       "      <td>314</td>\n",
       "      <td>0.412428</td>\n",
       "    </tr>\n",
       "  </tbody>\n",
       "</table>\n",
       "<p>60623167 rows × 2 columns</p>\n",
       "</div>"
      ],
      "text/plain": [
       "          eeg       emg\n",
       "0         207  0.544728\n",
       "1         569  0.544728\n",
       "2         506  0.544728\n",
       "3         510  0.544728\n",
       "4         721  0.544728\n",
       "...       ...       ...\n",
       "60623162  -48  0.411182\n",
       "60623163  397  0.411494\n",
       "60623164  522  0.411805\n",
       "60623165  362  0.412117\n",
       "60623166  314  0.412428\n",
       "\n",
       "[60623167 rows x 2 columns]"
      ]
     },
     "execution_count": 6,
     "metadata": {},
     "output_type": "execute_result"
    }
   ],
   "source": [
    "accusleepy_df = pd.DataFrame({\"eeg\": eeg.traces[0], \"emg\": emg_interp})\n",
    "accusleepy_df"
   ]
  },
  {
   "cell_type": "markdown",
   "id": "3b958c82-e212-4272-9fcb-20841e68f37b",
   "metadata": {},
   "source": [
    "### Save as CSV file - slow and creates a huge file"
   ]
  },
  {
   "cell_type": "code",
   "execution_count": 30,
   "id": "5842c9a5-0953-40ec-9b62-dd3674b3a50c",
   "metadata": {},
   "outputs": [],
   "source": [
    "accusleepy_df.to_csv(sess.basepath / \"accusleepy_eeg_emg.csv\")"
   ]
  },
  {
   "cell_type": "markdown",
   "id": "1fadbcbd-13b1-43c2-a0fc-1a64cce581c8",
   "metadata": {},
   "source": [
    "### Save as parquet file: fast and creates smaller file but requires additional packages\n",
    "`conda install -c conda-forge pyarrow` or\n",
    "`conda install -c conda-forge fastparquet`\n",
    "\n",
    "See: https://pandas.pydata.org/docs/reference/api/pandas.DataFrame.to_parquet.html"
   ]
  },
  {
   "cell_type": "code",
   "execution_count": 7,
   "id": "396f344f-5c96-4cfe-9bb2-f7b7db551795",
   "metadata": {},
   "outputs": [],
   "source": [
    "accusleepy_df.to_parquet(sess.basepath / \"accusleepy_eeg_emg.parquet\")"
   ]
  }
 ],
 "metadata": {
  "kernelspec": {
   "display_name": "Python 3 (ipykernel)",
   "language": "python",
   "name": "python3"
  },
  "language_info": {
   "codemirror_mode": {
    "name": "ipython",
    "version": 3
   },
   "file_extension": ".py",
   "mimetype": "text/x-python",
   "name": "python",
   "nbconvert_exporter": "python",
   "pygments_lexer": "ipython3",
   "version": "3.11.6"
  },
  "widgets": {
   "application/vnd.jupyter.widget-state+json": {
    "state": {},
    "version_major": 2,
    "version_minor": 0
   }
  }
 },
 "nbformat": 4,
 "nbformat_minor": 5
}
