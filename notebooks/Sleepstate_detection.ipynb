{
 "cells": [
  {
   "attachments": {},
   "cell_type": "markdown",
   "metadata": {},
   "source": [
    "### Imports"
   ]
  },
  {
   "cell_type": "code",
   "execution_count": 1,
   "metadata": {},
   "outputs": [
    {
     "name": "stderr",
     "output_type": "stream",
     "text": [
      "/home/nkinsky/miniforge3/envs/NeuroPy/lib/python3.11/site-packages/outdated/utils.py:14: OutdatedPackageWarning: The package pingouin is out of date. Your version is 0.5.3, the latest is 0.5.5.\n",
      "Set the environment variable OUTDATED_IGNORE=1 to disable these warnings.\n",
      "  return warn(\n"
     ]
    }
   ],
   "source": [
    "%load_ext autoreload\n",
    "%autoreload 2\n",
    "import sys\n",
    "sys.path.extend(['/data/GitHub/NeuroPy'])\n",
    "sys.path.extend(['/data/GitHub/sleep_loss_hippocampal_replay/analysis_and_figure_code/DataPaths'])\n",
    "\n",
    "import numpy as np\n",
    "import pandas as pd\n",
    "import seaborn as sns\n",
    "from scipy import stats\n",
    "import scipy.signal as sg\n",
    "import matplotlib.pyplot as plt\n",
    "from pathlib import Path\n",
    "\n",
    "# import subjects\n",
    "\n",
    "from neuropy import plotting\n",
    "from neuropy.plotting.epochs import plot_epochs\n",
    "from neuropy.core.session import ProcessData\n",
    "from neuropy.core.epoch import Epoch\n",
    "from neuropy.core.signal import Signal\n",
    "from neuropy.analyses.brainstates import emg_from_LFP, detect_brainstates_epochs\n",
    "from neuropy.analyses.brainstates_editor import editor"
   ]
  },
  {
   "cell_type": "markdown",
   "metadata": {},
   "source": [
    "### Load in session data"
   ]
  },
  {
   "cell_type": "code",
   "execution_count": 2,
   "metadata": {},
   "outputs": [],
   "source": [
    "base_dir = Path(\"/data/Clustering/sessions/RatU/RatUNSD_sleep_score_test\")\n",
    "sess = ProcessData(base_dir)\n",
    "\n",
    "sess.emg = Signal.from_dict(np.load(sorted(base_dir.glob(\"*.emg.npy\"))[0], allow_pickle=True).item())\n",
    "sess.artifact = Epoch.from_file(sorted(base_dir.glob(\"*.artifact.npy\"))[0])\n",
    "sess.paradigm = Epoch.from_file(sorted(base_dir.glob(\"*.paradigm.npy\"))[0])\n",
    "\n",
    "signal = sess.eegfile.get_signal()"
   ]
  },
  {
   "cell_type": "markdown",
   "metadata": {},
   "source": [
    "### EMG calculation\n",
    "You may need to exclude artifact sections"
   ]
  },
  {
   "cell_type": "code",
   "execution_count": null,
   "metadata": {},
   "outputs": [
    {
     "name": "stdout",
     "output_type": "stream",
     "text": [
      "starting emg calculation\n"
     ]
    }
   ],
   "source": [
    "window = 0.05\n",
    "overlap = 0\n",
    "emg_check = emg_from_LFP(signal, window=window, overlap=overlap, as_signal=True, n_jobs=10)"
   ]
  },
  {
   "cell_type": "code",
   "execution_count": null,
   "metadata": {},
   "outputs": [],
   "source": [
    "emg_check_coarse = emg_from_LFP(signal, window=0.5, overlap=overlap, as_signal=True, n_jobs=10)"
   ]
  },
  {
   "cell_type": "code",
   "execution_count": null,
   "metadata": {},
   "outputs": [
    {
     "name": "stderr",
     "output_type": "stream",
     "text": [
      "[autoreload of _frozen_importlib failed: Traceback (most recent call last):\n",
      "  File \"/home/nkinsky/miniforge3/envs/NeuroPy/lib/python3.11/site-packages/IPython/extensions/autoreload.py\", line 276, in check\n",
      "    superreload(m, reload, self.old_objects)\n",
      "  File \"/home/nkinsky/miniforge3/envs/NeuroPy/lib/python3.11/site-packages/IPython/extensions/autoreload.py\", line 475, in superreload\n",
      "    module = reload(module)\n",
      "             ^^^^^^^^^^^^^^\n",
      "  File \"/home/nkinsky/miniforge3/envs/NeuroPy/lib/python3.11/importlib/__init__.py\", line 166, in reload\n",
      "    spec = module.__spec__ = _bootstrap._find_spec(name, pkgpath, target)\n",
      "                             ^^^^^^^^^^^^^^^^^^^^^\n",
      "AttributeError: module 'importlib._bootstrap' has no attribute '_find_spec'\n",
      "]\n",
      "[autoreload of _frozen_importlib_external failed: Traceback (most recent call last):\n",
      "  File \"/home/nkinsky/miniforge3/envs/NeuroPy/lib/python3.11/site-packages/IPython/extensions/autoreload.py\", line 276, in check\n",
      "    superreload(m, reload, self.old_objects)\n",
      "  File \"/home/nkinsky/miniforge3/envs/NeuroPy/lib/python3.11/site-packages/IPython/extensions/autoreload.py\", line 475, in superreload\n",
      "    module = reload(module)\n",
      "             ^^^^^^^^^^^^^^\n",
      "  File \"/home/nkinsky/miniforge3/envs/NeuroPy/lib/python3.11/importlib/__init__.py\", line 166, in reload\n",
      "    spec = module.__spec__ = _bootstrap._find_spec(name, pkgpath, target)\n",
      "                             ^^^^^^^^^^^^^^^^^^^^^^^^^^^^^^^^^^^^^^^^^^^^\n",
      "  File \"<frozen importlib._bootstrap>\", line 1078, in _find_spec\n",
      "  File \"<frozen importlib._bootstrap_external>\", line 1504, in find_spec\n",
      "  File \"<frozen importlib._bootstrap_external>\", line 1473, in _get_spec\n",
      "  File \"<frozen importlib._bootstrap_external>\", line 1437, in _path_importer_cache\n",
      "NameError: name 'sys' is not defined\n",
      "]\n",
      "[autoreload of codecs failed: Traceback (most recent call last):\n",
      "  File \"/home/nkinsky/miniforge3/envs/NeuroPy/lib/python3.11/site-packages/IPython/extensions/autoreload.py\", line 276, in check\n",
      "    superreload(m, reload, self.old_objects)\n",
      "  File \"/home/nkinsky/miniforge3/envs/NeuroPy/lib/python3.11/site-packages/IPython/extensions/autoreload.py\", line 500, in superreload\n",
      "    update_generic(old_obj, new_obj)\n",
      "  File \"/home/nkinsky/miniforge3/envs/NeuroPy/lib/python3.11/site-packages/IPython/extensions/autoreload.py\", line 397, in update_generic\n",
      "    update(a, b)\n",
      "  File \"/home/nkinsky/miniforge3/envs/NeuroPy/lib/python3.11/site-packages/IPython/extensions/autoreload.py\", line 365, in update_class\n",
      "    update_instances(old, new)\n",
      "  File \"/home/nkinsky/miniforge3/envs/NeuroPy/lib/python3.11/site-packages/IPython/extensions/autoreload.py\", line 323, in update_instances\n",
      "    object.__setattr__(ref, \"__class__\", new)\n",
      "TypeError: __class__ assignment: 'CodecInfo' object layout differs from 'CodecInfo'\n",
      "]\n",
      "[autoreload of abc failed: Traceback (most recent call last):\n",
      "  File \"/home/nkinsky/miniforge3/envs/NeuroPy/lib/python3.11/site-packages/IPython/extensions/autoreload.py\", line 276, in check\n",
      "    superreload(m, reload, self.old_objects)\n",
      "  File \"/home/nkinsky/miniforge3/envs/NeuroPy/lib/python3.11/site-packages/IPython/extensions/autoreload.py\", line 500, in superreload\n",
      "    update_generic(old_obj, new_obj)\n",
      "  File \"/home/nkinsky/miniforge3/envs/NeuroPy/lib/python3.11/site-packages/IPython/extensions/autoreload.py\", line 397, in update_generic\n",
      "    update(a, b)\n",
      "  File \"/home/nkinsky/miniforge3/envs/NeuroPy/lib/python3.11/site-packages/IPython/extensions/autoreload.py\", line 365, in update_class\n",
      "    update_instances(old, new)\n",
      "  File \"/home/nkinsky/miniforge3/envs/NeuroPy/lib/python3.11/site-packages/IPython/extensions/autoreload.py\", line 323, in update_instances\n",
      "    object.__setattr__(ref, \"__class__\", new)\n",
      "TypeError: can't apply this __setattr__ to ABCMeta object\n",
      "]\n",
      "[autoreload of _collections_abc failed: Traceback (most recent call last):\n",
      "  File \"/home/nkinsky/miniforge3/envs/NeuroPy/lib/python3.11/site-packages/IPython/extensions/autoreload.py\", line 276, in check\n",
      "    superreload(m, reload, self.old_objects)\n",
      "  File \"/home/nkinsky/miniforge3/envs/NeuroPy/lib/python3.11/site-packages/IPython/extensions/autoreload.py\", line 475, in superreload\n",
      "    module = reload(module)\n",
      "             ^^^^^^^^^^^^^^\n",
      "  File \"/home/nkinsky/miniforge3/envs/NeuroPy/lib/python3.11/importlib/__init__.py\", line 148, in reload\n",
      "    raise ImportError(msg.format(name), name=name)\n",
      "ImportError: module collections.abc not in sys.modules\n",
      "]\n",
      "[autoreload of importlib failed: Traceback (most recent call last):\n",
      "  File \"/home/nkinsky/miniforge3/envs/NeuroPy/lib/python3.11/site-packages/IPython/extensions/autoreload.py\", line 276, in check\n",
      "    superreload(m, reload, self.old_objects)\n",
      "  File \"/home/nkinsky/miniforge3/envs/NeuroPy/lib/python3.11/site-packages/IPython/extensions/autoreload.py\", line 475, in superreload\n",
      "    module = reload(module)\n",
      "             ^^^^^^^^^^^^^^\n",
      "  File \"/home/nkinsky/miniforge3/envs/NeuroPy/lib/python3.11/importlib/__init__.py\", line 146, in reload\n",
      "    if sys.modules.get(name) is not module:\n",
      "       ^^^\n",
      "NameError: name 'sys' is not defined\n",
      "]\n",
      "[autoreload of operator failed: Traceback (most recent call last):\n",
      "  File \"/home/nkinsky/miniforge3/envs/NeuroPy/lib/python3.11/site-packages/IPython/extensions/autoreload.py\", line 276, in check\n",
      "    superreload(m, reload, self.old_objects)\n",
      "  File \"/home/nkinsky/miniforge3/envs/NeuroPy/lib/python3.11/site-packages/IPython/extensions/autoreload.py\", line 500, in superreload\n",
      "    update_generic(old_obj, new_obj)\n",
      "  File \"/home/nkinsky/miniforge3/envs/NeuroPy/lib/python3.11/site-packages/IPython/extensions/autoreload.py\", line 397, in update_generic\n",
      "    update(a, b)\n",
      "  File \"/home/nkinsky/miniforge3/envs/NeuroPy/lib/python3.11/site-packages/IPython/extensions/autoreload.py\", line 365, in update_class\n",
      "    update_instances(old, new)\n",
      "  File \"/home/nkinsky/miniforge3/envs/NeuroPy/lib/python3.11/site-packages/IPython/extensions/autoreload.py\", line 323, in update_instances\n",
      "    object.__setattr__(ref, \"__class__\", new)\n",
      "TypeError: __class__ assignment only supported for mutable types or ModuleType subclasses\n",
      "]\n"
     ]
    },
    {
     "ename": "AttributeError",
     "evalue": "module 'collections' has no attribute 'abc'",
     "output_type": "error",
     "traceback": [
      "\u001b[0;31m---------------------------------------------------------------------------\u001b[0m",
      "\u001b[0;31mAttributeError\u001b[0m                            Traceback (most recent call last)",
      "Cell \u001b[0;32mIn[5], line 1\u001b[0m\n\u001b[0;32m----> 1\u001b[0m _, ax \u001b[38;5;241m=\u001b[39m \u001b[43mplt\u001b[49m\u001b[38;5;241;43m.\u001b[39;49m\u001b[43msubplots\u001b[49m\u001b[43m(\u001b[49m\u001b[43m)\u001b[49m\n\u001b[1;32m      2\u001b[0m ax\u001b[38;5;241m.\u001b[39mplot(emg_check\u001b[38;5;241m.\u001b[39mtime, emg_check\u001b[38;5;241m.\u001b[39mtraces[\u001b[38;5;241m0\u001b[39m])\n",
      "File \u001b[0;32m~/miniforge3/envs/NeuroPy/lib/python3.11/site-packages/matplotlib/pyplot.py:1599\u001b[0m, in \u001b[0;36msubplots\u001b[0;34m(nrows, ncols, sharex, sharey, squeeze, width_ratios, height_ratios, subplot_kw, gridspec_kw, **fig_kw)\u001b[0m\n\u001b[1;32m   1455\u001b[0m \u001b[38;5;250m\u001b[39m\u001b[38;5;124;03m\"\"\"\u001b[39;00m\n\u001b[1;32m   1456\u001b[0m \u001b[38;5;124;03mCreate a figure and a set of subplots.\u001b[39;00m\n\u001b[1;32m   1457\u001b[0m \n\u001b[0;32m   (...)\u001b[0m\n\u001b[1;32m   1596\u001b[0m \n\u001b[1;32m   1597\u001b[0m \u001b[38;5;124;03m\"\"\"\u001b[39;00m\n\u001b[1;32m   1598\u001b[0m fig \u001b[38;5;241m=\u001b[39m figure(\u001b[38;5;241m*\u001b[39m\u001b[38;5;241m*\u001b[39mfig_kw)\n\u001b[0;32m-> 1599\u001b[0m axs \u001b[38;5;241m=\u001b[39m \u001b[43mfig\u001b[49m\u001b[38;5;241;43m.\u001b[39;49m\u001b[43msubplots\u001b[49m\u001b[43m(\u001b[49m\u001b[43mnrows\u001b[49m\u001b[38;5;241;43m=\u001b[39;49m\u001b[43mnrows\u001b[49m\u001b[43m,\u001b[49m\u001b[43m \u001b[49m\u001b[43mncols\u001b[49m\u001b[38;5;241;43m=\u001b[39;49m\u001b[43mncols\u001b[49m\u001b[43m,\u001b[49m\u001b[43m \u001b[49m\u001b[43msharex\u001b[49m\u001b[38;5;241;43m=\u001b[39;49m\u001b[43msharex\u001b[49m\u001b[43m,\u001b[49m\u001b[43m \u001b[49m\u001b[43msharey\u001b[49m\u001b[38;5;241;43m=\u001b[39;49m\u001b[43msharey\u001b[49m\u001b[43m,\u001b[49m\n\u001b[1;32m   1600\u001b[0m \u001b[43m                   \u001b[49m\u001b[43msqueeze\u001b[49m\u001b[38;5;241;43m=\u001b[39;49m\u001b[43msqueeze\u001b[49m\u001b[43m,\u001b[49m\u001b[43m \u001b[49m\u001b[43msubplot_kw\u001b[49m\u001b[38;5;241;43m=\u001b[39;49m\u001b[43msubplot_kw\u001b[49m\u001b[43m,\u001b[49m\n\u001b[1;32m   1601\u001b[0m \u001b[43m                   \u001b[49m\u001b[43mgridspec_kw\u001b[49m\u001b[38;5;241;43m=\u001b[39;49m\u001b[43mgridspec_kw\u001b[49m\u001b[43m,\u001b[49m\u001b[43m \u001b[49m\u001b[43mheight_ratios\u001b[49m\u001b[38;5;241;43m=\u001b[39;49m\u001b[43mheight_ratios\u001b[49m\u001b[43m,\u001b[49m\n\u001b[1;32m   1602\u001b[0m \u001b[43m                   \u001b[49m\u001b[43mwidth_ratios\u001b[49m\u001b[38;5;241;43m=\u001b[39;49m\u001b[43mwidth_ratios\u001b[49m\u001b[43m)\u001b[49m\n\u001b[1;32m   1603\u001b[0m \u001b[38;5;28;01mreturn\u001b[39;00m fig, axs\n",
      "File \u001b[0;32m~/miniforge3/envs/NeuroPy/lib/python3.11/site-packages/matplotlib/figure.py:931\u001b[0m, in \u001b[0;36mFigureBase.subplots\u001b[0;34m(self, nrows, ncols, sharex, sharey, squeeze, width_ratios, height_ratios, subplot_kw, gridspec_kw)\u001b[0m\n\u001b[1;32m    928\u001b[0m     gridspec_kw[\u001b[38;5;124m'\u001b[39m\u001b[38;5;124mwidth_ratios\u001b[39m\u001b[38;5;124m'\u001b[39m] \u001b[38;5;241m=\u001b[39m width_ratios\n\u001b[1;32m    930\u001b[0m gs \u001b[38;5;241m=\u001b[39m \u001b[38;5;28mself\u001b[39m\u001b[38;5;241m.\u001b[39madd_gridspec(nrows, ncols, figure\u001b[38;5;241m=\u001b[39m\u001b[38;5;28mself\u001b[39m, \u001b[38;5;241m*\u001b[39m\u001b[38;5;241m*\u001b[39mgridspec_kw)\n\u001b[0;32m--> 931\u001b[0m axs \u001b[38;5;241m=\u001b[39m \u001b[43mgs\u001b[49m\u001b[38;5;241;43m.\u001b[39;49m\u001b[43msubplots\u001b[49m\u001b[43m(\u001b[49m\u001b[43msharex\u001b[49m\u001b[38;5;241;43m=\u001b[39;49m\u001b[43msharex\u001b[49m\u001b[43m,\u001b[49m\u001b[43m \u001b[49m\u001b[43msharey\u001b[49m\u001b[38;5;241;43m=\u001b[39;49m\u001b[43msharey\u001b[49m\u001b[43m,\u001b[49m\u001b[43m \u001b[49m\u001b[43msqueeze\u001b[49m\u001b[38;5;241;43m=\u001b[39;49m\u001b[43msqueeze\u001b[49m\u001b[43m,\u001b[49m\n\u001b[1;32m    932\u001b[0m \u001b[43m                  \u001b[49m\u001b[43msubplot_kw\u001b[49m\u001b[38;5;241;43m=\u001b[39;49m\u001b[43msubplot_kw\u001b[49m\u001b[43m)\u001b[49m\n\u001b[1;32m    933\u001b[0m \u001b[38;5;28;01mreturn\u001b[39;00m axs\n",
      "File \u001b[0;32m~/miniforge3/envs/NeuroPy/lib/python3.11/site-packages/matplotlib/gridspec.py:298\u001b[0m, in \u001b[0;36mGridSpecBase.subplots\u001b[0;34m(self, sharex, sharey, squeeze, subplot_kw)\u001b[0m\n\u001b[1;32m    296\u001b[0m         subplot_kw[\u001b[38;5;124m\"\u001b[39m\u001b[38;5;124msharex\u001b[39m\u001b[38;5;124m\"\u001b[39m] \u001b[38;5;241m=\u001b[39m shared_with[sharex]\n\u001b[1;32m    297\u001b[0m         subplot_kw[\u001b[38;5;124m\"\u001b[39m\u001b[38;5;124msharey\u001b[39m\u001b[38;5;124m\"\u001b[39m] \u001b[38;5;241m=\u001b[39m shared_with[sharey]\n\u001b[0;32m--> 298\u001b[0m         axarr[row, col] \u001b[38;5;241m=\u001b[39m \u001b[43mfigure\u001b[49m\u001b[38;5;241;43m.\u001b[39;49m\u001b[43madd_subplot\u001b[49m\u001b[43m(\u001b[49m\n\u001b[1;32m    299\u001b[0m \u001b[43m            \u001b[49m\u001b[38;5;28;43mself\u001b[39;49m\u001b[43m[\u001b[49m\u001b[43mrow\u001b[49m\u001b[43m,\u001b[49m\u001b[43m \u001b[49m\u001b[43mcol\u001b[49m\u001b[43m]\u001b[49m\u001b[43m,\u001b[49m\u001b[43m \u001b[49m\u001b[38;5;241;43m*\u001b[39;49m\u001b[38;5;241;43m*\u001b[39;49m\u001b[43msubplot_kw\u001b[49m\u001b[43m)\u001b[49m\n\u001b[1;32m    301\u001b[0m \u001b[38;5;66;03m# turn off redundant tick labeling\u001b[39;00m\n\u001b[1;32m    302\u001b[0m \u001b[38;5;28;01mif\u001b[39;00m sharex \u001b[38;5;129;01min\u001b[39;00m [\u001b[38;5;124m\"\u001b[39m\u001b[38;5;124mcol\u001b[39m\u001b[38;5;124m\"\u001b[39m, \u001b[38;5;124m\"\u001b[39m\u001b[38;5;124mall\u001b[39m\u001b[38;5;124m\"\u001b[39m]:\n",
      "File \u001b[0;32m~/miniforge3/envs/NeuroPy/lib/python3.11/site-packages/matplotlib/figure.py:782\u001b[0m, in \u001b[0;36mFigureBase.add_subplot\u001b[0;34m(self, *args, **kwargs)\u001b[0m\n\u001b[1;32m    780\u001b[0m         args \u001b[38;5;241m=\u001b[39m \u001b[38;5;28mtuple\u001b[39m(\u001b[38;5;28mmap\u001b[39m(\u001b[38;5;28mint\u001b[39m, \u001b[38;5;28mstr\u001b[39m(args[\u001b[38;5;241m0\u001b[39m])))\n\u001b[1;32m    781\u001b[0m     projection_class, pkw \u001b[38;5;241m=\u001b[39m \u001b[38;5;28mself\u001b[39m\u001b[38;5;241m.\u001b[39m_process_projection_requirements(\u001b[38;5;241m*\u001b[39m\u001b[38;5;241m*\u001b[39mkwargs)\n\u001b[0;32m--> 782\u001b[0m     ax \u001b[38;5;241m=\u001b[39m \u001b[43mprojection_class\u001b[49m\u001b[43m(\u001b[49m\u001b[38;5;28;43mself\u001b[39;49m\u001b[43m,\u001b[49m\u001b[43m \u001b[49m\u001b[38;5;241;43m*\u001b[39;49m\u001b[43margs\u001b[49m\u001b[43m,\u001b[49m\u001b[43m \u001b[49m\u001b[38;5;241;43m*\u001b[39;49m\u001b[38;5;241;43m*\u001b[39;49m\u001b[43mpkw\u001b[49m\u001b[43m)\u001b[49m\n\u001b[1;32m    783\u001b[0m     key \u001b[38;5;241m=\u001b[39m (projection_class, pkw)\n\u001b[1;32m    784\u001b[0m \u001b[38;5;28;01mreturn\u001b[39;00m \u001b[38;5;28mself\u001b[39m\u001b[38;5;241m.\u001b[39m_add_axes_internal(ax, key)\n",
      "File \u001b[0;32m~/miniforge3/envs/NeuroPy/lib/python3.11/site-packages/matplotlib/axes/_base.py:678\u001b[0m, in \u001b[0;36m_AxesBase.__init__\u001b[0;34m(self, fig, facecolor, frameon, sharex, sharey, label, xscale, yscale, box_aspect, *args, **kwargs)\u001b[0m\n\u001b[1;32m    675\u001b[0m \u001b[38;5;28mself\u001b[39m\u001b[38;5;241m.\u001b[39mset_axisbelow(mpl\u001b[38;5;241m.\u001b[39mrcParams[\u001b[38;5;124m'\u001b[39m\u001b[38;5;124maxes.axisbelow\u001b[39m\u001b[38;5;124m'\u001b[39m])\n\u001b[1;32m    677\u001b[0m \u001b[38;5;28mself\u001b[39m\u001b[38;5;241m.\u001b[39m_rasterization_zorder \u001b[38;5;241m=\u001b[39m \u001b[38;5;28;01mNone\u001b[39;00m\n\u001b[0;32m--> 678\u001b[0m \u001b[38;5;28;43mself\u001b[39;49m\u001b[38;5;241;43m.\u001b[39;49m\u001b[43mclear\u001b[49m\u001b[43m(\u001b[49m\u001b[43m)\u001b[49m\n\u001b[1;32m    680\u001b[0m \u001b[38;5;66;03m# funcs used to format x and y - fall back on major formatters\u001b[39;00m\n\u001b[1;32m    681\u001b[0m \u001b[38;5;28mself\u001b[39m\u001b[38;5;241m.\u001b[39mfmt_xdata \u001b[38;5;241m=\u001b[39m \u001b[38;5;28;01mNone\u001b[39;00m\n",
      "File \u001b[0;32m~/miniforge3/envs/NeuroPy/lib/python3.11/site-packages/matplotlib/axes/_base.py:1388\u001b[0m, in \u001b[0;36m_AxesBase.clear\u001b[0;34m(self)\u001b[0m\n\u001b[1;32m   1386\u001b[0m     \u001b[38;5;28mself\u001b[39m\u001b[38;5;241m.\u001b[39mcla()\n\u001b[1;32m   1387\u001b[0m \u001b[38;5;28;01melse\u001b[39;00m:\n\u001b[0;32m-> 1388\u001b[0m     \u001b[38;5;28;43mself\u001b[39;49m\u001b[38;5;241;43m.\u001b[39;49m\u001b[43m__clear\u001b[49m\u001b[43m(\u001b[49m\u001b[43m)\u001b[49m\n",
      "File \u001b[0;32m~/miniforge3/envs/NeuroPy/lib/python3.11/site-packages/matplotlib/axes/_base.py:1376\u001b[0m, in \u001b[0;36m_AxesBase.__clear\u001b[0;34m(self)\u001b[0m\n\u001b[1;32m   1374\u001b[0m         \u001b[38;5;28;01mif\u001b[39;00m \u001b[38;5;28mself\u001b[39m\u001b[38;5;241m.\u001b[39mname \u001b[38;5;241m==\u001b[39m \u001b[38;5;124m\"\u001b[39m\u001b[38;5;124mpolar\u001b[39m\u001b[38;5;124m\"\u001b[39m:\n\u001b[1;32m   1375\u001b[0m             axis\u001b[38;5;241m.\u001b[39m_set_scale(\u001b[38;5;124m\"\u001b[39m\u001b[38;5;124mlinear\u001b[39m\u001b[38;5;124m\"\u001b[39m)\n\u001b[0;32m-> 1376\u001b[0m         \u001b[43maxis\u001b[49m\u001b[38;5;241;43m.\u001b[39;49m\u001b[43m_set_lim\u001b[49m\u001b[43m(\u001b[49m\u001b[38;5;241;43m0\u001b[39;49m\u001b[43m,\u001b[49m\u001b[43m \u001b[49m\u001b[38;5;241;43m1\u001b[39;49m\u001b[43m,\u001b[49m\u001b[43m \u001b[49m\u001b[43mauto\u001b[49m\u001b[38;5;241;43m=\u001b[39;49m\u001b[38;5;28;43;01mTrue\u001b[39;49;00m\u001b[43m)\u001b[49m\n\u001b[1;32m   1377\u001b[0m \u001b[38;5;28mself\u001b[39m\u001b[38;5;241m.\u001b[39m_update_transScale()\n\u001b[1;32m   1379\u001b[0m \u001b[38;5;28mself\u001b[39m\u001b[38;5;241m.\u001b[39mstale \u001b[38;5;241m=\u001b[39m \u001b[38;5;28;01mTrue\u001b[39;00m\n",
      "File \u001b[0;32m~/miniforge3/envs/NeuroPy/lib/python3.11/site-packages/matplotlib/axis.py:1209\u001b[0m, in \u001b[0;36mAxis._set_lim\u001b[0;34m(self, v0, v1, emit, auto)\u001b[0m\n\u001b[1;32m   1190\u001b[0m \u001b[38;5;250m\u001b[39m\u001b[38;5;124;03m\"\"\"\u001b[39;00m\n\u001b[1;32m   1191\u001b[0m \u001b[38;5;124;03mSet view limits.\u001b[39;00m\n\u001b[1;32m   1192\u001b[0m \n\u001b[0;32m   (...)\u001b[0m\n\u001b[1;32m   1205\u001b[0m \u001b[38;5;124;03m    turns off, None leaves unchanged.\u001b[39;00m\n\u001b[1;32m   1206\u001b[0m \u001b[38;5;124;03m\"\"\"\u001b[39;00m\n\u001b[1;32m   1207\u001b[0m name \u001b[38;5;241m=\u001b[39m \u001b[38;5;28mself\u001b[39m\u001b[38;5;241m.\u001b[39m_get_axis_name()\n\u001b[0;32m-> 1209\u001b[0m \u001b[38;5;28;43mself\u001b[39;49m\u001b[38;5;241;43m.\u001b[39;49m\u001b[43maxes\u001b[49m\u001b[38;5;241;43m.\u001b[39;49m\u001b[43m_process_unit_info\u001b[49m\u001b[43m(\u001b[49m\u001b[43m[\u001b[49m\u001b[43m(\u001b[49m\u001b[43mname\u001b[49m\u001b[43m,\u001b[49m\u001b[43m \u001b[49m\u001b[43m(\u001b[49m\u001b[43mv0\u001b[49m\u001b[43m,\u001b[49m\u001b[43m \u001b[49m\u001b[43mv1\u001b[49m\u001b[43m)\u001b[49m\u001b[43m)\u001b[49m\u001b[43m]\u001b[49m\u001b[43m,\u001b[49m\u001b[43m \u001b[49m\u001b[43mconvert\u001b[49m\u001b[38;5;241;43m=\u001b[39;49m\u001b[38;5;28;43;01mFalse\u001b[39;49;00m\u001b[43m)\u001b[49m\n\u001b[1;32m   1210\u001b[0m v0 \u001b[38;5;241m=\u001b[39m \u001b[38;5;28mself\u001b[39m\u001b[38;5;241m.\u001b[39maxes\u001b[38;5;241m.\u001b[39m_validate_converted_limits(v0, \u001b[38;5;28mself\u001b[39m\u001b[38;5;241m.\u001b[39mconvert_units)\n\u001b[1;32m   1211\u001b[0m v1 \u001b[38;5;241m=\u001b[39m \u001b[38;5;28mself\u001b[39m\u001b[38;5;241m.\u001b[39maxes\u001b[38;5;241m.\u001b[39m_validate_converted_limits(v1, \u001b[38;5;28mself\u001b[39m\u001b[38;5;241m.\u001b[39mconvert_units)\n",
      "File \u001b[0;32m~/miniforge3/envs/NeuroPy/lib/python3.11/site-packages/matplotlib/axes/_base.py:2555\u001b[0m, in \u001b[0;36m_AxesBase._process_unit_info\u001b[0;34m(self, datasets, kwargs, convert)\u001b[0m\n\u001b[1;32m   2553\u001b[0m     \u001b[38;5;66;03m# Update from data if axis is already set but no unit is set yet.\u001b[39;00m\n\u001b[1;32m   2554\u001b[0m     \u001b[38;5;28;01mif\u001b[39;00m axis \u001b[38;5;129;01mis\u001b[39;00m \u001b[38;5;129;01mnot\u001b[39;00m \u001b[38;5;28;01mNone\u001b[39;00m \u001b[38;5;129;01mand\u001b[39;00m data \u001b[38;5;129;01mis\u001b[39;00m \u001b[38;5;129;01mnot\u001b[39;00m \u001b[38;5;28;01mNone\u001b[39;00m \u001b[38;5;129;01mand\u001b[39;00m \u001b[38;5;129;01mnot\u001b[39;00m axis\u001b[38;5;241m.\u001b[39mhave_units():\n\u001b[0;32m-> 2555\u001b[0m         \u001b[43maxis\u001b[49m\u001b[38;5;241;43m.\u001b[39;49m\u001b[43mupdate_units\u001b[49m\u001b[43m(\u001b[49m\u001b[43mdata\u001b[49m\u001b[43m)\u001b[49m\n\u001b[1;32m   2556\u001b[0m \u001b[38;5;28;01mfor\u001b[39;00m axis_name, axis \u001b[38;5;129;01min\u001b[39;00m axis_map\u001b[38;5;241m.\u001b[39mitems():\n\u001b[1;32m   2557\u001b[0m     \u001b[38;5;66;03m# Return if no axis is set.\u001b[39;00m\n\u001b[1;32m   2558\u001b[0m     \u001b[38;5;28;01mif\u001b[39;00m axis \u001b[38;5;129;01mis\u001b[39;00m \u001b[38;5;28;01mNone\u001b[39;00m:\n",
      "File \u001b[0;32m~/miniforge3/envs/NeuroPy/lib/python3.11/site-packages/matplotlib/axis.py:1706\u001b[0m, in \u001b[0;36mAxis.update_units\u001b[0;34m(self, data)\u001b[0m\n\u001b[1;32m   1700\u001b[0m \u001b[38;5;28;01mdef\u001b[39;00m \u001b[38;5;21mupdate_units\u001b[39m(\u001b[38;5;28mself\u001b[39m, data):\n\u001b[1;32m   1701\u001b[0m \u001b[38;5;250m    \u001b[39m\u001b[38;5;124;03m\"\"\"\u001b[39;00m\n\u001b[1;32m   1702\u001b[0m \u001b[38;5;124;03m    Introspect *data* for units converter and update the\u001b[39;00m\n\u001b[1;32m   1703\u001b[0m \u001b[38;5;124;03m    ``axis.converter`` instance if necessary. Return *True*\u001b[39;00m\n\u001b[1;32m   1704\u001b[0m \u001b[38;5;124;03m    if *data* is registered for unit conversion.\u001b[39;00m\n\u001b[1;32m   1705\u001b[0m \u001b[38;5;124;03m    \"\"\"\u001b[39;00m\n\u001b[0;32m-> 1706\u001b[0m     converter \u001b[38;5;241m=\u001b[39m \u001b[43mmunits\u001b[49m\u001b[38;5;241;43m.\u001b[39;49m\u001b[43mregistry\u001b[49m\u001b[38;5;241;43m.\u001b[39;49m\u001b[43mget_converter\u001b[49m\u001b[43m(\u001b[49m\u001b[43mdata\u001b[49m\u001b[43m)\u001b[49m\n\u001b[1;32m   1707\u001b[0m     \u001b[38;5;28;01mif\u001b[39;00m converter \u001b[38;5;129;01mis\u001b[39;00m \u001b[38;5;28;01mNone\u001b[39;00m:\n\u001b[1;32m   1708\u001b[0m         \u001b[38;5;28;01mreturn\u001b[39;00m \u001b[38;5;28;01mFalse\u001b[39;00m\n",
      "File \u001b[0;32m~/miniforge3/envs/NeuroPy/lib/python3.11/site-packages/matplotlib/units.py:183\u001b[0m, in \u001b[0;36mRegistry.get_converter\u001b[0;34m(self, x)\u001b[0m\n\u001b[1;32m    181\u001b[0m         \u001b[38;5;28;01mpass\u001b[39;00m\n\u001b[1;32m    182\u001b[0m \u001b[38;5;28;01mtry\u001b[39;00m:  \u001b[38;5;66;03m# If cache lookup fails, look up based on first element...\u001b[39;00m\n\u001b[0;32m--> 183\u001b[0m     first \u001b[38;5;241m=\u001b[39m \u001b[43mcbook\u001b[49m\u001b[38;5;241;43m.\u001b[39;49m\u001b[43m_safe_first_finite\u001b[49m\u001b[43m(\u001b[49m\u001b[43mx\u001b[49m\u001b[43m)\u001b[49m\n\u001b[1;32m    184\u001b[0m \u001b[38;5;28;01mexcept\u001b[39;00m (\u001b[38;5;167;01mTypeError\u001b[39;00m, \u001b[38;5;167;01mStopIteration\u001b[39;00m):\n\u001b[1;32m    185\u001b[0m     \u001b[38;5;28;01mpass\u001b[39;00m\n",
      "File \u001b[0;32m~/miniforge3/envs/NeuroPy/lib/python3.11/site-packages/matplotlib/cbook.py:1725\u001b[0m, in \u001b[0;36m_safe_first_finite\u001b[0;34m(obj, skip_nonfinite)\u001b[0m\n\u001b[1;32m   1722\u001b[0m \u001b[38;5;28;01melif\u001b[39;00m \u001b[38;5;28misinstance\u001b[39m(obj, np\u001b[38;5;241m.\u001b[39mflatiter):\n\u001b[1;32m   1723\u001b[0m     \u001b[38;5;66;03m# TODO do the finite filtering on this\u001b[39;00m\n\u001b[1;32m   1724\u001b[0m     \u001b[38;5;28;01mreturn\u001b[39;00m obj[\u001b[38;5;241m0\u001b[39m]\n\u001b[0;32m-> 1725\u001b[0m \u001b[38;5;28;01melif\u001b[39;00m \u001b[38;5;28misinstance\u001b[39m(obj, \u001b[43mcollections\u001b[49m\u001b[38;5;241;43m.\u001b[39;49m\u001b[43mabc\u001b[49m\u001b[38;5;241m.\u001b[39mIterator):\n\u001b[1;32m   1726\u001b[0m     \u001b[38;5;28;01mraise\u001b[39;00m \u001b[38;5;167;01mRuntimeError\u001b[39;00m(\u001b[38;5;124m\"\u001b[39m\u001b[38;5;124mmatplotlib does not \u001b[39m\u001b[38;5;124m\"\u001b[39m\n\u001b[1;32m   1727\u001b[0m                        \u001b[38;5;124m\"\u001b[39m\u001b[38;5;124msupport generators as input\u001b[39m\u001b[38;5;124m\"\u001b[39m)\n\u001b[1;32m   1728\u001b[0m \u001b[38;5;28;01melse\u001b[39;00m:\n",
      "\u001b[0;31mAttributeError\u001b[0m: module 'collections' has no attribute 'abc'"
     ]
    },
    {
     "data": {
      "text/plain": [
       "<Figure size 640x480 with 0 Axes>"
      ]
     },
     "metadata": {},
     "output_type": "display_data"
    },
    {
     "name": "stderr",
     "output_type": "stream",
     "text": [
      "--- Logging error ---\n",
      "Traceback (most recent call last):\n",
      "  File \"/home/nkinsky/miniforge3/envs/NeuroPy/lib/python3.11/site-packages/ipykernel/kernelbase.py\", line 418, in dispatch_shell\n",
      "    await result\n",
      "  File \"/home/nkinsky/miniforge3/envs/NeuroPy/lib/python3.11/site-packages/ipykernel/kernelbase.py\", line 758, in execute_request\n",
      "    reply_content = await reply_content\n",
      "                    ^^^^^^^^^^^^^^^^^^^\n",
      "  File \"/home/nkinsky/miniforge3/envs/NeuroPy/lib/python3.11/site-packages/ipykernel/ipkernel.py\", line 460, in do_execute\n",
      "    self.log.info(\n",
      "  File \"/home/nkinsky/miniforge3/envs/NeuroPy/lib/python3.11/logging/__init__.py\", line 1489, in info\n",
      "    self._log(INFO, msg, args, **kwargs)\n",
      "  File \"/home/nkinsky/miniforge3/envs/NeuroPy/lib/python3.11/logging/__init__.py\", line 1632, in _log\n",
      "    record = self.makeRecord(self.name, level, fn, lno, msg, args,\n",
      "             ^^^^^^^^^^^^^^^^^^^^^^^^^^^^^^^^^^^^^^^^^^^^^^^^^^^^^\n",
      "  File \"/home/nkinsky/miniforge3/envs/NeuroPy/lib/python3.11/logging/__init__.py\", line 1601, in makeRecord\n",
      "    rv = _logRecordFactory(name, level, fn, lno, msg, args, exc_info, func,\n",
      "         ^^^^^^^^^^^^^^^^^^^^^^^^^^^^^^^^^^^^^^^^^^^^^^^^^^^^^^^^^^^^^^^^^^\n",
      "  File \"/home/nkinsky/miniforge3/envs/NeuroPy/lib/python3.11/logging/__init__.py\", line 318, in __init__\n",
      "    if (args and len(args) == 1 and isinstance(args[0], collections.abc.Mapping)\n",
      "                                                        ^^^^^^^^^^^^^^^\n",
      "AttributeError: module 'collections' has no attribute 'abc'\n",
      "--- Logging error ---\n",
      "Traceback (most recent call last):\n",
      "  File \"/home/nkinsky/miniforge3/envs/NeuroPy/lib/python3.11/site-packages/ipykernel/kernelbase.py\", line 418, in dispatch_shell\n",
      "    await result\n",
      "  File \"/home/nkinsky/miniforge3/envs/NeuroPy/lib/python3.11/site-packages/ipykernel/kernelbase.py\", line 758, in execute_request\n",
      "    reply_content = await reply_content\n",
      "                    ^^^^^^^^^^^^^^^^^^^\n",
      "  File \"/home/nkinsky/miniforge3/envs/NeuroPy/lib/python3.11/site-packages/ipykernel/ipkernel.py\", line 460, in do_execute\n",
      "    self.log.info(\n",
      "  File \"/home/nkinsky/miniforge3/envs/NeuroPy/lib/python3.11/logging/__init__.py\", line 1489, in info\n",
      "    self._log(INFO, msg, args, **kwargs)\n",
      "  File \"/home/nkinsky/miniforge3/envs/NeuroPy/lib/python3.11/logging/__init__.py\", line 1632, in _log\n",
      "    record = self.makeRecord(self.name, level, fn, lno, msg, args,\n",
      "             ^^^^^^^^^^^^^^^^^^^^^^^^^^^^^^^^^^^^^^^^^^^^^^^^^^^^^\n",
      "  File \"/home/nkinsky/miniforge3/envs/NeuroPy/lib/python3.11/logging/__init__.py\", line 1601, in makeRecord\n",
      "    rv = _logRecordFactory(name, level, fn, lno, msg, args, exc_info, func,\n",
      "         ^^^^^^^^^^^^^^^^^^^^^^^^^^^^^^^^^^^^^^^^^^^^^^^^^^^^^^^^^^^^^^^^^^\n",
      "  File \"/home/nkinsky/miniforge3/envs/NeuroPy/lib/python3.11/logging/__init__.py\", line 318, in __init__\n",
      "    if (args and len(args) == 1 and isinstance(args[0], collections.abc.Mapping)\n",
      "                                                        ^^^^^^^^^^^^^^^\n",
      "AttributeError: module 'collections' has no attribute 'abc'\n",
      "--- Logging error ---\n",
      "Traceback (most recent call last):\n",
      "  File \"/home/nkinsky/miniforge3/envs/NeuroPy/lib/python3.11/site-packages/ipykernel/kernelbase.py\", line 418, in dispatch_shell\n",
      "    await result\n",
      "  File \"/home/nkinsky/miniforge3/envs/NeuroPy/lib/python3.11/site-packages/ipykernel/kernelbase.py\", line 758, in execute_request\n",
      "    reply_content = await reply_content\n",
      "                    ^^^^^^^^^^^^^^^^^^^\n",
      "  File \"/home/nkinsky/miniforge3/envs/NeuroPy/lib/python3.11/site-packages/ipykernel/ipkernel.py\", line 460, in do_execute\n",
      "    self.log.info(\n",
      "  File \"/home/nkinsky/miniforge3/envs/NeuroPy/lib/python3.11/logging/__init__.py\", line 1489, in info\n",
      "    self._log(INFO, msg, args, **kwargs)\n",
      "  File \"/home/nkinsky/miniforge3/envs/NeuroPy/lib/python3.11/logging/__init__.py\", line 1632, in _log\n",
      "    record = self.makeRecord(self.name, level, fn, lno, msg, args,\n",
      "             ^^^^^^^^^^^^^^^^^^^^^^^^^^^^^^^^^^^^^^^^^^^^^^^^^^^^^\n",
      "  File \"/home/nkinsky/miniforge3/envs/NeuroPy/lib/python3.11/logging/__init__.py\", line 1601, in makeRecord\n",
      "    rv = _logRecordFactory(name, level, fn, lno, msg, args, exc_info, func,\n",
      "         ^^^^^^^^^^^^^^^^^^^^^^^^^^^^^^^^^^^^^^^^^^^^^^^^^^^^^^^^^^^^^^^^^^\n",
      "  File \"/home/nkinsky/miniforge3/envs/NeuroPy/lib/python3.11/logging/__init__.py\", line 318, in __init__\n",
      "    if (args and len(args) == 1 and isinstance(args[0], collections.abc.Mapping)\n",
      "                                                        ^^^^^^^^^^^^^^^\n",
      "AttributeError: module 'collections' has no attribute 'abc'\n",
      "--- Logging error ---\n",
      "Traceback (most recent call last):\n",
      "  File \"/home/nkinsky/miniforge3/envs/NeuroPy/lib/python3.11/site-packages/ipykernel/kernelbase.py\", line 418, in dispatch_shell\n",
      "    await result\n",
      "  File \"/home/nkinsky/miniforge3/envs/NeuroPy/lib/python3.11/site-packages/ipykernel/kernelbase.py\", line 758, in execute_request\n",
      "    reply_content = await reply_content\n",
      "                    ^^^^^^^^^^^^^^^^^^^\n",
      "  File \"/home/nkinsky/miniforge3/envs/NeuroPy/lib/python3.11/site-packages/ipykernel/ipkernel.py\", line 460, in do_execute\n",
      "    self.log.info(\n",
      "  File \"/home/nkinsky/miniforge3/envs/NeuroPy/lib/python3.11/logging/__init__.py\", line 1489, in info\n",
      "    self._log(INFO, msg, args, **kwargs)\n",
      "  File \"/home/nkinsky/miniforge3/envs/NeuroPy/lib/python3.11/logging/__init__.py\", line 1632, in _log\n",
      "    record = self.makeRecord(self.name, level, fn, lno, msg, args,\n",
      "             ^^^^^^^^^^^^^^^^^^^^^^^^^^^^^^^^^^^^^^^^^^^^^^^^^^^^^\n",
      "  File \"/home/nkinsky/miniforge3/envs/NeuroPy/lib/python3.11/logging/__init__.py\", line 1601, in makeRecord\n",
      "    rv = _logRecordFactory(name, level, fn, lno, msg, args, exc_info, func,\n",
      "         ^^^^^^^^^^^^^^^^^^^^^^^^^^^^^^^^^^^^^^^^^^^^^^^^^^^^^^^^^^^^^^^^^^\n",
      "  File \"/home/nkinsky/miniforge3/envs/NeuroPy/lib/python3.11/logging/__init__.py\", line 318, in __init__\n",
      "    if (args and len(args) == 1 and isinstance(args[0], collections.abc.Mapping)\n",
      "                                                        ^^^^^^^^^^^^^^^\n",
      "AttributeError: module 'collections' has no attribute 'abc'\n",
      "Traceback (most recent call last):\n",
      "  File \"/home/nkinsky/miniforge3/envs/NeuroPy/lib/python3.11/site-packages/ipykernel/kernelbase.py\", line 418, in dispatch_shell\n",
      "    await result\n",
      "  File \"/home/nkinsky/miniforge3/envs/NeuroPy/lib/python3.11/site-packages/ipykernel/kernelbase.py\", line 758, in execute_request\n",
      "    reply_content = await reply_content\n",
      "                    ^^^^^^^^^^^^^^^^^^^\n",
      "  File \"/home/nkinsky/miniforge3/envs/NeuroPy/lib/python3.11/site-packages/ipykernel/ipkernel.py\", line 460, in do_execute\n",
      "    self.log.info(\n",
      "  File \"/home/nkinsky/miniforge3/envs/NeuroPy/lib/python3.11/logging/__init__.py\", line 1489, in info\n",
      "    self._log(INFO, msg, args, **kwargs)\n",
      "  File \"/home/nkinsky/miniforge3/envs/NeuroPy/lib/python3.11/logging/__init__.py\", line 1632, in _log\n",
      "    record = self.makeRecord(self.name, level, fn, lno, msg, args,\n",
      "             ^^^^^^^^^^^^^^^^^^^^^^^^^^^^^^^^^^^^^^^^^^^^^^^^^^^^^\n",
      "  File \"/home/nkinsky/miniforge3/envs/NeuroPy/lib/python3.11/logging/__init__.py\", line 1601, in makeRecord\n",
      "    rv = _logRecordFactory(name, level, fn, lno, msg, args, exc_info, func,\n",
      "         ^^^^^^^^^^^^^^^^^^^^^^^^^^^^^^^^^^^^^^^^^^^^^^^^^^^^^^^^^^^^^^^^^^\n",
      "Error in sys.excepthook:\n",
      "Traceback (most recent call last):\n",
      "  File \"/home/nkinsky/miniforge3/envs/NeuroPy/lib/python3.11/site-packages/ipykernel/kernelapp.py\", line 209, in excepthook\n",
      "  File \"/home/nkinsky/miniforge3/envs/NeuroPy/lib/python3.11/logging/__init__.py\", line 318, in __init__\n",
      "    if (args and len(args) == 1 and isinstance(args[0], collections.abc.Mapping)\n",
      "                                                        ^^^^^^^^^^^^^^^\n",
      "AttributeError: module 'collections' has no attribute 'abc'\n",
      "    traceback.print_exception(etype, evalue, tb, file=sys.__stderr__)\n",
      "  File \"/home/nkinsky/miniforge3/envs/NeuroPy/lib/python3.11/traceback.py\", line 125, in print_exception\n",
      "    te.print(file=file, chain=chain)\n",
      "  File \"/home/nkinsky/miniforge3/envs/NeuroPy/lib/python3.11/traceback.py\", line 991, in print\n",
      "    else:\n",
      "^^^^^^^^^\n",
      "  File \"/home/nkinsky/miniforge3/envs/NeuroPy/lib/python3.11/traceback.py\", line 929, in format\n",
      "    if _ctx is None:\n",
      "            ^^^^^^^^^\n",
      "  File \"/home/nkinsky/miniforge3/envs/NeuroPy/lib/python3.11/traceback.py\", line 644, in emit\n",
      "    return sum(\n",
      "            ^^^\n",
      "  File \"/home/nkinsky/miniforge3/envs/NeuroPy/lib/python3.11/traceback.py\", line 843, in format_exception_only\n",
      "    return self._str\n",
      "                     \n",
      "AttributeError: module 'collections' has no attribute 'abc'\n",
      "\n",
      "Original exception was:\n",
      "Traceback (most recent call last):\n",
      "  File \"/home/nkinsky/miniforge3/envs/NeuroPy/lib/python3.11/site-packages/ipykernel/kernelbase.py\", line 418, in dispatch_shell\n",
      "    await result\n",
      "  File \"/home/nkinsky/miniforge3/envs/NeuroPy/lib/python3.11/site-packages/ipykernel/kernelbase.py\", line 758, in execute_request\n",
      "    reply_content = await reply_content\n",
      "                    ^^^^^^^^^^^^^^^^^^^\n",
      "  File \"/home/nkinsky/miniforge3/envs/NeuroPy/lib/python3.11/site-packages/ipykernel/ipkernel.py\", line 460, in do_execute\n",
      "    self.log.info(\n",
      "  File \"/home/nkinsky/miniforge3/envs/NeuroPy/lib/python3.11/logging/__init__.py\", line 1489, in info\n",
      "    self._log(INFO, msg, args, **kwargs)\n",
      "  File \"/home/nkinsky/miniforge3/envs/NeuroPy/lib/python3.11/logging/__init__.py\", line 1632, in _log\n",
      "    record = self.makeRecord(self.name, level, fn, lno, msg, args,\n",
      "             ^^^^^^^^^^^^^^^^^^^^^^^^^^^^^^^^^^^^^^^^^^^^^^^^^^^^^\n",
      "  File \"/home/nkinsky/miniforge3/envs/NeuroPy/lib/python3.11/logging/__init__.py\", line 1601, in makeRecord\n",
      "    rv = _logRecordFactory(name, level, fn, lno, msg, args, exc_info, func,\n",
      "         ^^^^^^^^^^^^^^^^^^^^^^^^^^^^^^^^^^^^^^^^^^^^^^^^^^^^^^^^^^^^^^^^^^\n",
      "  File \"/home/nkinsky/miniforge3/envs/NeuroPy/lib/python3.11/logging/__init__.py\", line 318, in __init__\n",
      "    if (args and len(args) == 1 and isinstance(args[0], collections.abc.Mapping)\n",
      "                                                        ^^^^^^^^^^^^^^^\n",
      "AttributeError: module 'collections' has no attribute 'abc'\n",
      "\n",
      "During handling of the above exception, another exception occurred:\n",
      "\n",
      "Traceback (most recent call last):\n",
      "  File \"/home/nkinsky/miniforge3/envs/NeuroPy/lib/python3.11/logging/__init__.py\", line 1110, in emit\n",
      "    msg = self.format(record)\n",
      "          ^^^^^^^^^^^^^^^^^^^\n",
      "  File \"/home/nkinsky/miniforge3/envs/NeuroPy/lib/python3.11/logging/__init__.py\", line 953, in format\n",
      "    return fmt.format(record)\n",
      "           ^^^^^^^^^^^^^^^^^^\n",
      "  File \"/home/nkinsky/miniforge3/envs/NeuroPy/lib/python3.11/site-packages/traitlets/config/application.py\", line 148, in format\n",
      "    return super().format(record)\n",
      "           ^^^^^^^^^^^^^^^^^^^^^^\n",
      "  File \"/home/nkinsky/miniforge3/envs/NeuroPy/lib/python3.11/logging/__init__.py\", line 695, in format\n",
      "    record.exc_text = self.formatException(record.exc_info)\n",
      "                      ^^^^^^^^^^^^^^^^^^^^^^^^^^^^^^^^^^^^^\n",
      "  File \"/home/nkinsky/miniforge3/envs/NeuroPy/lib/python3.11/logging/__init__.py\", line 645, in formatException\n",
      "    traceback.print_exception(ei[0], ei[1], tb, None, sio)\n",
      "  File \"/home/nkinsky/miniforge3/envs/NeuroPy/lib/python3.11/traceback.py\", line 125, in print_exception\n",
      "    te.print(file=file, chain=chain)\n",
      "  File \"/home/nkinsky/miniforge3/envs/NeuroPy/lib/python3.11/traceback.py\", line 991, in print\n",
      "    else:\n",
      "^^^^^^^^^\n",
      "  File \"/home/nkinsky/miniforge3/envs/NeuroPy/lib/python3.11/traceback.py\", line 929, in format\n",
      "    if _ctx is None:\n",
      "            ^^^^^^^^^\n",
      "  File \"/home/nkinsky/miniforge3/envs/NeuroPy/lib/python3.11/traceback.py\", line 644, in emit\n",
      "    return sum(\n",
      "            ^^^\n",
      "  File \"/home/nkinsky/miniforge3/envs/NeuroPy/lib/python3.11/traceback.py\", line 843, in format_exception_only\n",
      "    return self._str\n",
      "                     \n",
      "AttributeError: module 'collections' has no attribute 'abc'\n",
      "\n",
      "During handling of the above exception, another exception occurred:\n",
      "\n",
      "Traceback (most recent call last):\n",
      "  File \"/home/nkinsky/miniforge3/envs/NeuroPy/lib/python3.11/site-packages/ipykernel/kernelbase.py\", line 524, in dispatch_queue\n",
      "    await self.process_one()\n",
      "  File \"/home/nkinsky/miniforge3/envs/NeuroPy/lib/python3.11/site-packages/ipykernel/kernelbase.py\", line 513, in process_one\n",
      "    await dispatch(*args)\n",
      "  File \"/home/nkinsky/miniforge3/envs/NeuroPy/lib/python3.11/site-packages/ipykernel/kernelbase.py\", line 420, in dispatch_shell\n",
      "    self.log.error(\"Exception in message handler:\", exc_info=True)\n",
      "  File \"/home/nkinsky/miniforge3/envs/NeuroPy/lib/python3.11/logging/__init__.py\", line 1518, in error\n",
      "    self._log(ERROR, msg, args, **kwargs)\n",
      "  File \"/home/nkinsky/miniforge3/envs/NeuroPy/lib/python3.11/logging/__init__.py\", line 1634, in _log\n",
      "    self.handle(record)\n",
      "  File \"/home/nkinsky/miniforge3/envs/NeuroPy/lib/python3.11/logging/__init__.py\", line 1644, in handle\n",
      "    self.callHandlers(record)\n",
      "  File \"/home/nkinsky/miniforge3/envs/NeuroPy/lib/python3.11/logging/__init__.py\", line 1706, in callHandlers\n",
      "    hdlr.handle(record)\n",
      "  File \"/home/nkinsky/miniforge3/envs/NeuroPy/lib/python3.11/logging/__init__.py\", line 978, in handle\n",
      "    self.emit(record)\n",
      "  File \"/home/nkinsky/miniforge3/envs/NeuroPy/lib/python3.11/logging/__init__.py\", line 1118, in emit\n",
      "    self.handleError(record)\n",
      "  File \"/home/nkinsky/miniforge3/envs/NeuroPy/lib/python3.11/logging/__init__.py\", line 1032, in handleError\n",
      "    traceback.print_exception(t, v, tb, None, sys.stderr)\n",
      "  File \"/home/nkinsky/miniforge3/envs/NeuroPy/lib/python3.11/traceback.py\", line 125, in print_exception\n",
      "    te.print(file=file, chain=chain)\n",
      "  File \"/home/nkinsky/miniforge3/envs/NeuroPy/lib/python3.11/traceback.py\", line 991, in print\n",
      "    else:\n",
      "^^^^^^^^^\n",
      "  File \"/home/nkinsky/miniforge3/envs/NeuroPy/lib/python3.11/traceback.py\", line 929, in format\n",
      "    if _ctx is None:\n",
      "            ^^^^^^^^^\n",
      "  File \"/home/nkinsky/miniforge3/envs/NeuroPy/lib/python3.11/traceback.py\", line 644, in emit\n",
      "    return sum(\n",
      "            ^^^\n",
      "  File \"/home/nkinsky/miniforge3/envs/NeuroPy/lib/python3.11/traceback.py\", line 843, in format_exception_only\n",
      "    return self._str\n",
      "                     \n",
      "AttributeError: module 'collections' has no attribute 'abc'\n",
      "\n",
      "During handling of the above exception, another exception occurred:\n",
      "\n",
      "Traceback (most recent call last):\n",
      "  File \"/home/nkinsky/miniforge3/envs/NeuroPy/lib/python3.11/logging/__init__.py\", line 1110, in emit\n",
      "    msg = self.format(record)\n",
      "          ^^^^^^^^^^^^^^^^^^^\n",
      "  File \"/home/nkinsky/miniforge3/envs/NeuroPy/lib/python3.11/logging/__init__.py\", line 953, in format\n",
      "    return fmt.format(record)\n",
      "           ^^^^^^^^^^^^^^^^^^\n",
      "  File \"/home/nkinsky/miniforge3/envs/NeuroPy/lib/python3.11/site-packages/traitlets/config/application.py\", line 148, in format\n",
      "    return super().format(record)\n",
      "           ^^^^^^^^^^^^^^^^^^^^^^\n",
      "  File \"/home/nkinsky/miniforge3/envs/NeuroPy/lib/python3.11/logging/__init__.py\", line 695, in format\n",
      "    record.exc_text = self.formatException(record.exc_info)\n",
      "                      ^^^^^^^^^^^^^^^^^^^^^^^^^^^^^^^^^^^^^\n",
      "  File \"/home/nkinsky/miniforge3/envs/NeuroPy/lib/python3.11/logging/__init__.py\", line 645, in formatException\n",
      "    traceback.print_exception(ei[0], ei[1], tb, None, sio)\n",
      "  File \"/home/nkinsky/miniforge3/envs/NeuroPy/lib/python3.11/traceback.py\", line 125, in print_exception\n",
      "    te.print(file=file, chain=chain)\n",
      "  File \"/home/nkinsky/miniforge3/envs/NeuroPy/lib/python3.11/traceback.py\", line 991, in print\n",
      "    else:\n",
      "^^^^^^^^^\n",
      "  File \"/home/nkinsky/miniforge3/envs/NeuroPy/lib/python3.11/traceback.py\", line 929, in format\n",
      "    if _ctx is None:\n",
      "            ^^^^^^^^^\n",
      "  File \"/home/nkinsky/miniforge3/envs/NeuroPy/lib/python3.11/traceback.py\", line 644, in emit\n",
      "    return sum(\n",
      "            ^^^\n",
      "  File \"/home/nkinsky/miniforge3/envs/NeuroPy/lib/python3.11/traceback.py\", line 843, in format_exception_only\n",
      "    return self._str\n",
      "                     \n",
      "AttributeError: module 'collections' has no attribute 'abc'\n",
      "\n",
      "During handling of the above exception, another exception occurred:\n",
      "\n",
      "Traceback (most recent call last):\n",
      "  File \"/home/nkinsky/miniforge3/envs/NeuroPy/lib/python3.11/site-packages/tornado/ioloop.py\", line 738, in _run_callback\n",
      "    ret = callback()\n",
      "          ^^^^^^^^^^\n",
      "  File \"/home/nkinsky/miniforge3/envs/NeuroPy/lib/python3.11/site-packages/tornado/ioloop.py\", line 762, in _discard_future_result\n",
      "    future.result()\n",
      "  File \"/home/nkinsky/miniforge3/envs/NeuroPy/lib/python3.11/site-packages/ipykernel/kernelbase.py\", line 526, in dispatch_queue\n",
      "    self.log.exception(\"Error in message handler\")\n",
      "  File \"/home/nkinsky/miniforge3/envs/NeuroPy/lib/python3.11/logging/__init__.py\", line 1524, in exception\n",
      "    self.error(msg, *args, exc_info=exc_info, **kwargs)\n",
      "  File \"/home/nkinsky/miniforge3/envs/NeuroPy/lib/python3.11/logging/__init__.py\", line 1518, in error\n",
      "    self._log(ERROR, msg, args, **kwargs)\n",
      "  File \"/home/nkinsky/miniforge3/envs/NeuroPy/lib/python3.11/logging/__init__.py\", line 1634, in _log\n",
      "    self.handle(record)\n",
      "  File \"/home/nkinsky/miniforge3/envs/NeuroPy/lib/python3.11/logging/__init__.py\", line 1644, in handle\n",
      "    self.callHandlers(record)\n",
      "  File \"/home/nkinsky/miniforge3/envs/NeuroPy/lib/python3.11/logging/__init__.py\", line 1706, in callHandlers\n",
      "    hdlr.handle(record)\n",
      "  File \"/home/nkinsky/miniforge3/envs/NeuroPy/lib/python3.11/logging/__init__.py\", line 978, in handle\n",
      "    self.emit(record)\n",
      "  File \"/home/nkinsky/miniforge3/envs/NeuroPy/lib/python3.11/logging/__init__.py\", line 1118, in emit\n",
      "    self.handleError(record)\n",
      "  File \"/home/nkinsky/miniforge3/envs/NeuroPy/lib/python3.11/logging/__init__.py\", line 1032, in handleError\n",
      "    traceback.print_exception(t, v, tb, None, sys.stderr)\n",
      "  File \"/home/nkinsky/miniforge3/envs/NeuroPy/lib/python3.11/traceback.py\", line 125, in print_exception\n",
      "    te.print(file=file, chain=chain)\n",
      "  File \"/home/nkinsky/miniforge3/envs/NeuroPy/lib/python3.11/traceback.py\", line 991, in print\n",
      "    else:\n",
      "^^^^^^^^^\n",
      "  File \"/home/nkinsky/miniforge3/envs/NeuroPy/lib/python3.11/traceback.py\", line 929, in format\n",
      "    if _ctx is None:\n",
      "            ^^^^^^^^^\n",
      "  File \"/home/nkinsky/miniforge3/envs/NeuroPy/lib/python3.11/traceback.py\", line 644, in emit\n",
      "    return sum(\n",
      "            ^^^\n",
      "  File \"/home/nkinsky/miniforge3/envs/NeuroPy/lib/python3.11/traceback.py\", line 843, in format_exception_only\n",
      "    return self._str\n",
      "                     \n",
      "AttributeError: module 'collections' has no attribute 'abc'\n",
      "\n",
      "During handling of the above exception, another exception occurred:\n",
      "\n",
      "Traceback (most recent call last):\n",
      "  File \"/home/nkinsky/miniforge3/envs/NeuroPy/lib/python3.11/asyncio/events.py\", line 80, in _run\n",
      "    return self._cancelled\n",
      "        ^^^^^^^^^^^^^^^^^^^\n",
      "  File \"/home/nkinsky/miniforge3/envs/NeuroPy/lib/python3.11/site-packages/tornado/ioloop.py\", line 685, in <lambda>\n",
      "    lambda f: self._run_callback(functools.partial(callback, future))\n",
      "              ^^^^^^^^^^^^^^^^^^^^^^^^^^^^^^^^^^^^^^^^^^^^^^^^^^^^^^^\n",
      "  File \"/home/nkinsky/miniforge3/envs/NeuroPy/lib/python3.11/site-packages/tornado/ioloop.py\", line 758, in _run_callback\n",
      "    app_log.error(\"Exception in callback %r\", callback, exc_info=True)\n",
      "  File \"/home/nkinsky/miniforge3/envs/NeuroPy/lib/python3.11/logging/__init__.py\", line 1518, in error\n",
      "    self._log(ERROR, msg, args, **kwargs)\n",
      "  File \"/home/nkinsky/miniforge3/envs/NeuroPy/lib/python3.11/logging/__init__.py\", line 1632, in _log\n",
      "    record = self.makeRecord(self.name, level, fn, lno, msg, args,\n",
      "             ^^^^^^^^^^^^^^^^^^^^^^^^^^^^^^^^^^^^^^^^^^^^^^^^^^^^^\n",
      "  File \"/home/nkinsky/miniforge3/envs/NeuroPy/lib/python3.11/logging/__init__.py\", line 1601, in makeRecord\n",
      "    rv = _logRecordFactory(name, level, fn, lno, msg, args, exc_info, func,\n",
      "         ^^^^^^^^^^^^^^^^^^^^^^^^^^^^^^^^^^^^^^^^^^^^^^^^^^^^^^^^^^^^^^^^^^\n",
      "  File \"/home/nkinsky/miniforge3/envs/NeuroPy/lib/python3.11/logging/__init__.py\", line 318, in __init__\n",
      "    if (args and len(args) == 1 and isinstance(args[0], collections.abc.Mapping)\n",
      "                                                        ^^^^^^^^^^^^^^^\n",
      "AttributeError: module 'collections' has no attribute 'abc'\n",
      "\n",
      "During handling of the above exception, another exception occurred:\n",
      "\n",
      "Traceback (most recent call last):\n",
      "  File \"/home/nkinsky/miniforge3/envs/NeuroPy/lib/python3.11/logging/__init__.py\", line 1110, in emit\n",
      "    msg = self.format(record)\n",
      "          ^^^^^^^^^^^^^^^^^^^\n",
      "  File \"/home/nkinsky/miniforge3/envs/NeuroPy/lib/python3.11/logging/__init__.py\", line 953, in format\n",
      "    return fmt.format(record)\n",
      "           ^^^^^^^^^^^^^^^^^^\n",
      "  File \"/home/nkinsky/miniforge3/envs/NeuroPy/lib/python3.11/logging/__init__.py\", line 695, in format\n",
      "    record.exc_text = self.formatException(record.exc_info)\n",
      "                      ^^^^^^^^^^^^^^^^^^^^^^^^^^^^^^^^^^^^^\n",
      "  File \"/home/nkinsky/miniforge3/envs/NeuroPy/lib/python3.11/logging/__init__.py\", line 645, in formatException\n",
      "    traceback.print_exception(ei[0], ei[1], tb, None, sio)\n",
      "  File \"/home/nkinsky/miniforge3/envs/NeuroPy/lib/python3.11/traceback.py\", line 125, in print_exception\n",
      "    te.print(file=file, chain=chain)\n",
      "  File \"/home/nkinsky/miniforge3/envs/NeuroPy/lib/python3.11/traceback.py\", line 991, in print\n",
      "    else:\n",
      "^^^^^^^^^\n",
      "  File \"/home/nkinsky/miniforge3/envs/NeuroPy/lib/python3.11/traceback.py\", line 929, in format\n",
      "    if _ctx is None:\n",
      "            ^^^^^^^^^\n",
      "  File \"/home/nkinsky/miniforge3/envs/NeuroPy/lib/python3.11/traceback.py\", line 644, in emit\n",
      "    return sum(\n",
      "            ^^^\n",
      "  File \"/home/nkinsky/miniforge3/envs/NeuroPy/lib/python3.11/traceback.py\", line 843, in format_exception_only\n",
      "    return self._str\n",
      "                     \n",
      "AttributeError: module 'collections' has no attribute 'abc'\n",
      "\n",
      "During handling of the above exception, another exception occurred:\n",
      "\n",
      "Traceback (most recent call last):\n",
      "  File \"/home/nkinsky/miniforge3/envs/NeuroPy/lib/python3.11/asyncio/base_events.py\", line 1797, in call_exception_handler\n",
      "    - 'protocol' (optional): Protocol instance;\n",
      "            ^^^^^^^^^^^^^^^^^^^^^^^^^^^^^^^^^^^^\n",
      "  File \"/home/nkinsky/miniforge3/envs/NeuroPy/lib/python3.11/asyncio/base_events.py\", line 1771, in default_exception_handler\n",
      "    continue\n",
      "^^^^^^^^^^^^^\n",
      "  File \"/home/nkinsky/miniforge3/envs/NeuroPy/lib/python3.11/logging/__init__.py\", line 1518, in error\n",
      "    self._log(ERROR, msg, args, **kwargs)\n",
      "  File \"/home/nkinsky/miniforge3/envs/NeuroPy/lib/python3.11/logging/__init__.py\", line 1634, in _log\n",
      "    self.handle(record)\n",
      "  File \"/home/nkinsky/miniforge3/envs/NeuroPy/lib/python3.11/logging/__init__.py\", line 1644, in handle\n",
      "    self.callHandlers(record)\n",
      "  File \"/home/nkinsky/miniforge3/envs/NeuroPy/lib/python3.11/logging/__init__.py\", line 1714, in callHandlers\n",
      "    lastResort.handle(record)\n",
      "  File \"/home/nkinsky/miniforge3/envs/NeuroPy/lib/python3.11/logging/__init__.py\", line 978, in handle\n",
      "    self.emit(record)\n",
      "  File \"/home/nkinsky/miniforge3/envs/NeuroPy/lib/python3.11/logging/__init__.py\", line 1118, in emit\n",
      "    self.handleError(record)\n",
      "  File \"/home/nkinsky/miniforge3/envs/NeuroPy/lib/python3.11/logging/__init__.py\", line 1032, in handleError\n",
      "    traceback.print_exception(t, v, tb, None, sys.stderr)\n",
      "  File \"/home/nkinsky/miniforge3/envs/NeuroPy/lib/python3.11/traceback.py\", line 125, in print_exception\n",
      "    te.print(file=file, chain=chain)\n",
      "  File \"/home/nkinsky/miniforge3/envs/NeuroPy/lib/python3.11/traceback.py\", line 991, in print\n",
      "    else:\n",
      "^^^^^^^^^\n",
      "  File \"/home/nkinsky/miniforge3/envs/NeuroPy/lib/python3.11/traceback.py\", line 929, in format\n",
      "    if _ctx is None:\n",
      "            ^^^^^^^^^\n",
      "  File \"/home/nkinsky/miniforge3/envs/NeuroPy/lib/python3.11/traceback.py\", line 644, in emit\n",
      "    return sum(\n",
      "            ^^^\n",
      "  File \"/home/nkinsky/miniforge3/envs/NeuroPy/lib/python3.11/traceback.py\", line 843, in format_exception_only\n",
      "    return self._str\n",
      "                     \n",
      "AttributeError: module 'collections' has no attribute 'abc'\n",
      "\n",
      "During handling of the above exception, another exception occurred:\n",
      "\n",
      "Traceback (most recent call last):\n",
      "  File \"/home/nkinsky/miniforge3/envs/NeuroPy/lib/python3.11/logging/__init__.py\", line 1110, in emit\n",
      "    msg = self.format(record)\n",
      "          ^^^^^^^^^^^^^^^^^^^\n",
      "  File \"/home/nkinsky/miniforge3/envs/NeuroPy/lib/python3.11/logging/__init__.py\", line 953, in format\n",
      "    return fmt.format(record)\n",
      "           ^^^^^^^^^^^^^^^^^^\n",
      "  File \"/home/nkinsky/miniforge3/envs/NeuroPy/lib/python3.11/logging/__init__.py\", line 695, in format\n",
      "    record.exc_text = self.formatException(record.exc_info)\n",
      "                      ^^^^^^^^^^^^^^^^^^^^^^^^^^^^^^^^^^^^^\n",
      "  File \"/home/nkinsky/miniforge3/envs/NeuroPy/lib/python3.11/logging/__init__.py\", line 645, in formatException\n",
      "    traceback.print_exception(ei[0], ei[1], tb, None, sio)\n",
      "  File \"/home/nkinsky/miniforge3/envs/NeuroPy/lib/python3.11/traceback.py\", line 125, in print_exception\n",
      "    te.print(file=file, chain=chain)\n",
      "  File \"/home/nkinsky/miniforge3/envs/NeuroPy/lib/python3.11/traceback.py\", line 991, in print\n",
      "    else:\n",
      "^^^^^^^^^\n",
      "  File \"/home/nkinsky/miniforge3/envs/NeuroPy/lib/python3.11/traceback.py\", line 929, in format\n",
      "    if _ctx is None:\n",
      "            ^^^^^^^^^\n",
      "  File \"/home/nkinsky/miniforge3/envs/NeuroPy/lib/python3.11/traceback.py\", line 644, in emit\n",
      "    return sum(\n",
      "            ^^^\n",
      "  File \"/home/nkinsky/miniforge3/envs/NeuroPy/lib/python3.11/traceback.py\", line 843, in format_exception_only\n",
      "    return self._str\n",
      "                     \n",
      "AttributeError: module 'collections' has no attribute 'abc'\n",
      "\n",
      "During handling of the above exception, another exception occurred:\n",
      "\n",
      "Traceback (most recent call last):\n",
      "  File \"<frozen runpy>\", line 198, in _run_module_as_main\n",
      "  File \"<frozen runpy>\", line 88, in _run_code\n",
      "  File \"/home/nkinsky/miniforge3/envs/NeuroPy/lib/python3.11/site-packages/ipykernel_launcher.py\", line 17, in <module>\n",
      "    app.launch_new_instance()\n",
      "  File \"/home/nkinsky/miniforge3/envs/NeuroPy/lib/python3.11/site-packages/traitlets/config/application.py\", line 1053, in launch_instance\n",
      "    app.start()\n",
      "  File \"/home/nkinsky/miniforge3/envs/NeuroPy/lib/python3.11/site-packages/ipykernel/kernelapp.py\", line 737, in start\n",
      "    self.io_loop.start()\n",
      "  File \"/home/nkinsky/miniforge3/envs/NeuroPy/lib/python3.11/site-packages/tornado/platform/asyncio.py\", line 195, in start\n",
      "    self.asyncio_loop.run_forever()\n",
      "  File \"/home/nkinsky/miniforge3/envs/NeuroPy/lib/python3.11/asyncio/base_events.py\", line 607, in run_forever\n",
      "    while True:\n",
      "        ^^^^^^^^\n",
      "  File \"/home/nkinsky/miniforge3/envs/NeuroPy/lib/python3.11/asyncio/base_events.py\", line 1922, in _run_once\n",
      "    if handle._cancelled:\n",
      "        ^^^^^^^^^^^^^\n",
      "  File \"/home/nkinsky/miniforge3/envs/NeuroPy/lib/python3.11/asyncio/events.py\", line 94, in _run\n",
      "    'handle': self,\n",
      "^^^^^^^^^^^^^^^^^^^^\n",
      "  File \"/home/nkinsky/miniforge3/envs/NeuroPy/lib/python3.11/asyncio/base_events.py\", line 1804, in call_exception_handler\n",
      "    \n",
      "    \n",
      "  File \"/home/nkinsky/miniforge3/envs/NeuroPy/lib/python3.11/logging/__init__.py\", line 1518, in error\n",
      "    self._log(ERROR, msg, args, **kwargs)\n",
      "  File \"/home/nkinsky/miniforge3/envs/NeuroPy/lib/python3.11/logging/__init__.py\", line 1634, in _log\n",
      "    self.handle(record)\n",
      "  File \"/home/nkinsky/miniforge3/envs/NeuroPy/lib/python3.11/logging/__init__.py\", line 1644, in handle\n",
      "    self.callHandlers(record)\n",
      "  File \"/home/nkinsky/miniforge3/envs/NeuroPy/lib/python3.11/logging/__init__.py\", line 1714, in callHandlers\n",
      "    lastResort.handle(record)\n",
      "  File \"/home/nkinsky/miniforge3/envs/NeuroPy/lib/python3.11/logging/__init__.py\", line 978, in handle\n",
      "    self.emit(record)\n",
      "  File \"/home/nkinsky/miniforge3/envs/NeuroPy/lib/python3.11/logging/__init__.py\", line 1118, in emit\n",
      "    self.handleError(record)\n",
      "  File \"/home/nkinsky/miniforge3/envs/NeuroPy/lib/python3.11/logging/__init__.py\", line 1032, in handleError\n",
      "    traceback.print_exception(t, v, tb, None, sys.stderr)\n",
      "  File \"/home/nkinsky/miniforge3/envs/NeuroPy/lib/python3.11/traceback.py\", line 125, in print_exception\n",
      "    te.print(file=file, chain=chain)\n",
      "  File \"/home/nkinsky/miniforge3/envs/NeuroPy/lib/python3.11/traceback.py\", line 991, in print\n",
      "    else:\n",
      "^^^^^^^^^\n",
      "  File \"/home/nkinsky/miniforge3/envs/NeuroPy/lib/python3.11/traceback.py\", line 929, in format\n",
      "    if _ctx is None:\n",
      "            ^^^^^^^^^\n",
      "  File \"/home/nkinsky/miniforge3/envs/NeuroPy/lib/python3.11/traceback.py\", line 644, in emit\n",
      "    return sum(\n",
      "            ^^^\n",
      "  File \"/home/nkinsky/miniforge3/envs/NeuroPy/lib/python3.11/traceback.py\", line 843, in format_exception_only\n",
      "    return self._str\n",
      "                     \n",
      "AttributeError: module 'collections' has no attribute 'abc'\n"
     ]
    }
   ],
   "source": [
    "_, ax = plt.subplots()\n",
    "ax.plot(emg_check.time, emg_check.traces[0])"
   ]
  },
  {
   "cell_type": "code",
   "execution_count": 3,
   "metadata": {},
   "outputs": [
    {
     "ename": "NameError",
     "evalue": "name 'emg_check' is not defined",
     "output_type": "error",
     "traceback": [
      "\u001b[0;31m---------------------------------------------------------------------------\u001b[0m",
      "\u001b[0;31mNameError\u001b[0m                                 Traceback (most recent call last)",
      "Cell \u001b[0;32mIn[3], line 4\u001b[0m\n\u001b[1;32m      2\u001b[0m _, ax \u001b[38;5;241m=\u001b[39m plt\u001b[38;5;241m.\u001b[39msubplots(figsize\u001b[38;5;241m=\u001b[39m(\u001b[38;5;241m11\u001b[39m, \u001b[38;5;241m3\u001b[39m))\n\u001b[1;32m      3\u001b[0m ax\u001b[38;5;241m.\u001b[39mplot(sess\u001b[38;5;241m.\u001b[39memg\u001b[38;5;241m.\u001b[39mtraces\u001b[38;5;241m.\u001b[39msqueeze())\n\u001b[0;32m----> 4\u001b[0m ax\u001b[38;5;241m.\u001b[39mplot(\u001b[43memg_check\u001b[49m\u001b[38;5;241m.\u001b[39mtraces\u001b[38;5;241m.\u001b[39msqueeze())\n",
      "\u001b[0;31mNameError\u001b[0m: name 'emg_check' is not defined"
     ]
    },
    {
     "data": {
      "application/vnd.jupyter.widget-view+json": {
       "model_id": "cc873319514f450f9f074ff0314bbaef",
       "version_major": 2,
       "version_minor": 0
      },
      "image/png": "[encoded data removed]",
      "text/html": [
       "\n",
       "            <div style=\"display: inline-block;\">\n",
       "                <div class=\"jupyter-widgets widget-label\" style=\"text-align: center;\">\n",
       "                    Figure\n",
       "                </div>\n",
       "                <img src='data:image/png;base64,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' width=1100.0/>\n",
       "            </div>\n",
       "        "
      ],
      "text/plain": [
       "Canvas(toolbar=Toolbar(toolitems=[('Home', 'Reset original view', 'home', 'home'), ('Back', 'Back to previous …"
      ]
     },
     "metadata": {},
     "output_type": "display_data"
    }
   ],
   "source": [
    "%matplotlib widget\n",
    "_, ax = plt.subplots(figsize=(11, 3))\n",
    "ax.plot(sess.emg.traces.squeeze())\n",
    "ax.plot(emg_check.traces.squeeze())"
   ]
  },
  {
   "cell_type": "markdown",
   "metadata": {},
   "source": [
    "### Artifact detection\n",
    "If not already done perform below"
   ]
  },
  {
   "attachments": {},
   "cell_type": "markdown",
   "metadata": {},
   "source": [
    "### Sleep state detection"
   ]
  },
  {
   "cell_type": "code",
   "execution_count": 4,
   "metadata": {},
   "outputs": [
    {
     "name": "stdout",
     "output_type": "stream",
     "text": [
      "channel for sleep detection: (0, 1)\n",
      "spectral properties calculated\n"
     ]
    }
   ],
   "source": [
    "theta_channel, slow_wave_channel = 0, 1\n",
    "brainstates = detect_brainstates_epochs(\n",
    "    signal,\n",
    "    probe=None,\n",
    "    theta_channel=theta_channel,\n",
    "    delta_channel=slow_wave_channel,\n",
    "    sigma=4,\n",
    "    ignore_epochs=sess.artifact,\n",
    "    window=2,\n",
    "    overlap=1,\n",
    "    emg_signal=sess.emg,\n",
    "    # plot=False,\n",
    "    # fp_bokeh_plot=sess.filePrefix.with_suffix(\".brainstates_scoring.html\"),\n",
    "    threshold_type=\"schmitt\",\n",
    ")"
   ]
  },
  {
   "cell_type": "markdown",
   "metadata": {},
   "source": [
    "#### Check versus previously curated data\n",
    "brainstates matches well but .finer does not, at least for AW / QW"
   ]
  },
  {
   "cell_type": "code",
   "execution_count": 5,
   "metadata": {},
   "outputs": [],
   "source": [
    "# Load in \"ground-truth\" data to check your calculation against\n",
    "brainstates_check = Epoch.from_file(sorted(base_dir.glob(\"*.brainstates.npy\"))[0])  # Used in Giri, Kinsky et al. (2024)\n",
    "brainstates_finer_check = Epoch.from_file(sorted(base_dir.glob(\"*.brainstates.finer.npy\"))[0]) "
   ]
  },
  {
   "cell_type": "code",
   "execution_count": 6,
   "metadata": {},
   "outputs": [
    {
     "data": {
      "text/plain": [
       "(16000.0, 17200.0)"
      ]
     },
     "execution_count": 6,
     "metadata": {},
     "output_type": "execute_result"
    },
    {
     "data": {
      "application/vnd.jupyter.widget-view+json": {
       "model_id": "50e53c82a83540e49b178269989cc76c",
       "version_major": 2,
       "version_minor": 0
      },
      "image/png": "[encoded data removed]",
      "text/html": [
       "\n",
       "            <div style=\"display: inline-block;\">\n",
       "                <div class=\"jupyter-widgets widget-label\" style=\"text-align: center;\">\n",
       "                    Figure\n",
       "                </div>\n",
       "                <img src='data:image/png;base64,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' width=800.0/>\n",
       "            </div>\n",
       "        "
      ],
      "text/plain": [
       "Canvas(toolbar=Toolbar(toolitems=[('Home', 'Reset original view', 'home', 'home'), ('Back', 'Back to previous …"
      ]
     },
     "metadata": {},
     "output_type": "display_data"
    }
   ],
   "source": [
    "%matplotlib widget\n",
    "colors_use ={'NOISE': 'r', 'AW': 'k', 'QW': 'k', 'REM': 'k', 'NREM': 'k'}\n",
    "_, ax = plt.subplots(2, 1, figsize=(8, 4), sharex=True)\n",
    "plot_epochs(\n",
    "    brainstates,\n",
    "    ax=ax[0],\n",
    "    labels_order=[\"NREM\", \"REM\", \"QW\", \"AW\", \"NOISE\"],\n",
    "    colors=colors_use,\n",
    "    collapsed=False,\n",
    ")\n",
    "ax[0].set_title(\"Your data\")\n",
    "\n",
    "# Don't use\n",
    "# plot_epochs(\n",
    "#     brainstates_check,\n",
    "#     ax=ax[1],\n",
    "#     labels_order=[\"NREM\", \"REM\", \"QW\", \"AW\", \"NOISE\"],\n",
    "#     colors=colors_use,\n",
    "#     collapsed=False,\n",
    "# )\n",
    "# ax[1].set_title(\"Antiquated / old method\")\n",
    "\n",
    "plot_epochs(\n",
    "    brainstates_finer_check,\n",
    "    ax=ax[1],\n",
    "    labels_order=[\"NREM\", \"REM\", \"QW\", \"AW\", \"NOISE\"],\n",
    "    colors=colors_use,\n",
    "    collapsed=False,\n",
    ")\n",
    "ax[1].set_title('\"Ground truth\" data')\n",
    "\n",
    "ax[1].set_xlim((16000, 17200)) # zoom in here for RatUDay2NDS example of changing QW - NREM transition time"
   ]
  },
  {
   "cell_type": "markdown",
   "metadata": {},
   "source": [
    "### View brainstates detection in ephyviewer"
   ]
  },
  {
   "cell_type": "code",
   "execution_count": 12,
   "metadata": {},
   "outputs": [
    {
     "name": "stdout",
     "output_type": "stream",
     "text": [
      "debug True\n",
      "refresh duration for traces (raw, ripple, theta) 5.888938903808594e-05 s\n",
      "scale_mode=real_scale\n",
      "refresh duration for traces (raw, ripple, theta) 7.224082946777344e-05 s\n",
      "refresh duration for emg 7.557868957519531e-05 s\n"
     ]
    },
    {
     "ename": "AttributeError",
     "evalue": "'EpochEncoder' object has no attribute 'allow_overlap_action'",
     "output_type": "error",
     "traceback": [
      "\u001b[0;31m---------------------------------------------------------------------------\u001b[0m",
      "\u001b[0;31mAttributeError\u001b[0m                            Traceback (most recent call last)",
      "File \u001b[0;32m~/miniforge3/envs/NeuroPy/lib/python3.11/site-packages/ephyviewer/epochencoder.py:398\u001b[0m, in \u001b[0;36mEpochEncoder.on_param_change\u001b[0;34m(self)\u001b[0m\n\u001b[1;32m    397\u001b[0m \u001b[38;5;28;01mdef\u001b[39;00m \u001b[38;5;21mon_param_change\u001b[39m(\u001b[38;5;28mself\u001b[39m):\n\u001b[0;32m--> 398\u001b[0m     \u001b[38;5;28;43mself\u001b[39;49m\u001b[38;5;241;43m.\u001b[39;49m\u001b[43mallow_overlap_action\u001b[49m\u001b[38;5;241m.\u001b[39msetChecked(\u001b[38;5;129;01mnot\u001b[39;00m \u001b[38;5;28mself\u001b[39m\u001b[38;5;241m.\u001b[39mparams[\u001b[38;5;124m'\u001b[39m\u001b[38;5;124mexclusive_mode\u001b[39m\u001b[38;5;124m'\u001b[39m])\n\u001b[1;32m    399\u001b[0m     \u001b[38;5;28mself\u001b[39m\u001b[38;5;241m.\u001b[39mvline\u001b[38;5;241m.\u001b[39msetPen(color\u001b[38;5;241m=\u001b[39m\u001b[38;5;28mself\u001b[39m\u001b[38;5;241m.\u001b[39mparams[\u001b[38;5;124m'\u001b[39m\u001b[38;5;124mvline_color\u001b[39m\u001b[38;5;124m'\u001b[39m])\n\u001b[1;32m    400\u001b[0m     \u001b[38;5;28;01mfor\u001b[39;00m label_item \u001b[38;5;129;01min\u001b[39;00m \u001b[38;5;28mself\u001b[39m\u001b[38;5;241m.\u001b[39mlabel_items:\n",
      "\u001b[0;31mAttributeError\u001b[0m: 'EpochEncoder' object has no attribute 'allow_overlap_action'"
     ]
    },
    {
     "name": "stdout",
     "output_type": "stream",
     "text": [
      "refresh duration for traces (raw, ripple, theta) 0.00010633468627929688 s\n",
      "refresh duration for emg 0.00019931793212890625 s\n",
      "refresh duration for brainstates 0.0001373291015625 s\n",
      "refresh duration for traces (raw, ripple, theta) 0.00010180473327636719 s\n",
      "refresh duration for emg 0.00011920928955078125 s\n",
      "refresh duration for brainstates 0.0003540515899658203 s\n",
      "refresh duration for wvlt 0.00017833709716796875 s\n",
      "12 6\n",
      "12 6\n",
      "12 6\n",
      "12 6\n",
      "refresh duration for traces (raw, ripple, theta) 0.00012421607971191406 s\n",
      "refresh duration for emg 0.00014328956604003906 s\n",
      "refresh duration for brainstates 0.0003578662872314453 s\n",
      "refresh duration for wvlt 0.000225067138671875 s\n",
      "refresh duration for spectrogram 8.130073547363281e-05 s\n",
      "2500 1250\n",
      "2500 1250\n"
     ]
    },
    {
     "name": "stderr",
     "output_type": "stream",
     "text": [
      "/data/GitHub/NeuroPy/neuropy/utils/spectrogramviewer_custom.py:222: RuntimeWarning: divide by zero encountered in log10\n",
      "  Sxx = 10.0 * np.log10(Sxx)\n",
      "/data/GitHub/NeuroPy/neuropy/utils/spectrogramviewer_custom.py:222: RuntimeWarning: divide by zero encountered in log10\n",
      "  Sxx = 10.0 * np.log10(Sxx)\n"
     ]
    },
    {
     "name": "stdout",
     "output_type": "stream",
     "text": [
      "2500 1250\n",
      "refresh duration for traces (raw, ripple, theta) 0.0001842975616455078 s\n",
      "refresh duration for emg 0.00017452239990234375 s\n",
      "refresh duration for brainstates 3.1948089599609375e-05 s\n",
      "refresh duration for wvlt 0.00040912628173828125 s\n",
      "refresh duration for spectrogram 0.00011920928955078125 s\n",
      "refresh duration for paradigm 0.0001392364501953125 s\n",
      "2500 1250\n",
      "2500 1250\n",
      "refresh duration for traces (raw, ripple, theta) 0.000232696533203125 s\n",
      "refresh duration for emg 0.00029659271240234375 s\n",
      "refresh duration for brainstates 0.00017523765563964844 s\n",
      "refresh duration for wvlt 0.00039267539978027344 s\n",
      "refresh duration for spectrogram 9.298324584960938e-05 s\n",
      "refresh duration for paradigm 0.00020170211791992188 s\n",
      "2500 1250\n",
      "refresh duration for traces (raw, ripple, theta) 0.0002894401550292969 s\n",
      "refresh duration for emg 8.440017700195312e-05 s\n",
      "refresh duration for brainstates 0.000209808349609375 s\n",
      "refresh duration for wvlt 0.00011014938354492188 s\n",
      "2500 1250\n",
      "refresh duration for spectrogram 0.0004525184631347656 s\n",
      "refresh duration for paradigm 6.556510925292969e-05 s\n",
      "refresh duration for traces (raw, ripple, theta) 0.00036835670471191406 s\n",
      "refresh duration for emg 0.0003452301025390625 s\n",
      "refresh duration for wvlt 0.0002129077911376953 s\n",
      "2500 1250\n",
      "refresh duration for spectrogram 0.0004303455352783203 s\n",
      "refresh duration for paradigm 0.0005004405975341797 s\n",
      "refresh duration for traces (raw, ripple, theta) 0.00035858154296875 s\n",
      "refresh duration for emg 0.0004956722259521484 s\n",
      "refresh duration for brainstates 4.9114227294921875e-05 s\n",
      "refresh duration for wvlt 0.0002205371856689453 s\n",
      "refresh duration for spectrogram 0.00026345252990722656 s\n",
      "2500 1250\n",
      "refresh duration for paradigm 0.00037932395935058594 s\n",
      "refresh duration for traces (raw, ripple, theta) 0.0002999305725097656 s\n",
      "refresh duration for emg 0.00037097930908203125 s\n",
      "refresh duration for wvlt 0.0003643035888671875 s\n",
      "refresh duration for spectrogram 8.463859558105469e-05 s\n",
      "refresh duration for paradigm 4.4345855712890625e-05 s\n",
      "2500 1250\n",
      "refresh duration for traces (raw, ripple, theta) 0.00022363662719726562 s\n",
      "refresh duration for emg 0.0004353523254394531 s\n",
      "refresh duration for brainstates 3.337860107421875e-05 s\n",
      "refresh duration for wvlt 0.00010347366333007812 s\n",
      "2500 1250\n",
      "refresh duration for spectrogram 0.0007159709930419922 s\n",
      "refresh duration for paradigm 0.000293731689453125 s\n",
      "refresh duration for traces (raw, ripple, theta) 0.0002751350402832031 s\n",
      "refresh duration for emg 0.000225067138671875 s\n",
      "refresh duration for wvlt 0.0003993511199951172 s\n",
      "refresh duration for spectrogram 0.00047278404235839844 s\n",
      "2500 1250\n",
      "refresh duration for paradigm 0.00028228759765625 s\n",
      "refresh duration for traces (raw, ripple, theta) 0.00038552284240722656 s\n",
      "refresh duration for emg 0.00011205673217773438 s\n",
      "refresh duration for brainstates 0.0002124309539794922 s\n",
      "refresh duration for wvlt 0.00017261505126953125 s\n",
      "2500 1250\n",
      "refresh duration for spectrogram 0.0004904270172119141 s\n",
      "refresh duration for paradigm 0.0001087188720703125 s\n",
      "refresh duration for traces (raw, ripple, theta) 0.00028896331787109375 s\n",
      "refresh duration for emg 9.846687316894531e-05 s\n",
      "refresh duration for brainstates 2.8133392333984375e-05 s\n",
      "refresh duration for wvlt 0.0004782676696777344 s\n",
      "refresh duration for spectrogram 0.00021338462829589844 s\n",
      "2500 1250\n",
      "refresh duration for paradigm 0.0004553794860839844 s\n",
      "refresh duration for traces (raw, ripple, theta) 0.0002300739288330078 s\n",
      "refresh duration for emg 0.00039196014404296875 s\n",
      "refresh duration for brainstates 7.390975952148438e-05 s\n",
      "refresh duration for wvlt 0.000202178955078125 s\n",
      "2500 1250\n",
      "refresh duration for spectrogram 0.0004036426544189453 s\n",
      "refresh duration for paradigm 0.0004267692565917969 s\n",
      "refresh duration for traces (raw, ripple, theta) 0.00042366981506347656 s\n",
      "refresh duration for emg 0.0001068115234375 s\n",
      "refresh duration for brainstates 0.00038433074951171875 s\n",
      "refresh duration for wvlt 0.0003209114074707031 s\n",
      "refresh duration for spectrogram 0.00019621849060058594 s\n",
      "refresh duration for paradigm 4.9591064453125e-05 s\n",
      "2500 1250\n",
      "refresh duration for traces (raw, ripple, theta) 0.0002589225769042969 s\n",
      "refresh duration for emg 0.00034332275390625 s\n",
      "refresh duration for brainstates 0.00017976760864257812 s\n",
      "refresh duration for wvlt 9.72747802734375e-05 s\n",
      "2500 1250\n",
      "refresh duration for spectrogram 0.0005035400390625 s\n",
      "refresh duration for paradigm 5.626678466796875e-05 s\n",
      "refresh duration for traces (raw, ripple, theta) 0.0004582405090332031 s\n",
      "refresh duration for emg 0.0002570152282714844 s\n",
      "refresh duration for brainstates 0.0001461505889892578 s\n",
      "refresh duration for wvlt 0.0001888275146484375 s\n",
      "refresh duration for spectrogram 0.0002644062042236328 s\n",
      "refresh duration for paradigm 4.553794860839844e-05 s\n",
      "2500 1250\n",
      "auto_scale same_for_all\n",
      "compute_auto_clim\n",
      "[ True]\n",
      "2500 1250\n",
      "2500 1250\n",
      "clim_zoom factor 0.9090909090909091\n",
      "2500 1250\n",
      "clim_zoom factor 0.9090909090909091\n",
      "2500 1250\n",
      "refresh duration for traces (raw, ripple, theta) 0.0004889965057373047 s\n",
      "refresh duration for emg 0.0002696514129638672 s\n",
      "refresh duration for brainstates 0.0001392364501953125 s\n",
      "refresh duration for wvlt 0.00029778480529785156 s\n",
      "2500 1250\n",
      "refresh duration for spectrogram 0.0004611015319824219 s\n",
      "refresh duration for paradigm 0.00022125244140625 s\n",
      "refresh duration for traces (raw, ripple, theta) 0.0004391670227050781 s\n",
      "refresh duration for emg 0.0002498626708984375 s\n",
      "refresh duration for brainstates 5.1021575927734375e-05 s\n",
      "refresh duration for wvlt 0.00029730796813964844 s\n",
      "2500 1250\n",
      "refresh duration for spectrogram 0.0003554821014404297 s\n",
      "refresh duration for paradigm 0.00011968612670898438 s\n",
      "refresh duration for traces (raw, ripple, theta) 0.00031948089599609375 s\n",
      "refresh duration for emg 0.00029754638671875 s\n",
      "refresh duration for brainstates 0.00015687942504882812 s\n",
      "refresh duration for wvlt 0.00017976760864257812 s\n",
      "refresh duration for spectrogram 0.0003161430358886719 s\n",
      "refresh duration for paradigm 4.649162292480469e-05 s\n",
      "2500 1250\n",
      "auto_scale same_for_all\n",
      "compute_auto_clim\n",
      "[ True]\n",
      "2500 1250\n",
      "2500 1250\n",
      "refresh duration for traces (raw, ripple, theta) 0.00020194053649902344 s\n",
      "refresh duration for emg 0.0003402233123779297 s\n",
      "refresh duration for brainstates 0.00020456314086914062 s\n",
      "refresh duration for wvlt 0.00010704994201660156 s\n",
      "2500 1250\n",
      "refresh duration for spectrogram 0.00028228759765625 s\n",
      "refresh duration for paradigm 0.001088857650756836 s\n",
      "save_all_settings\n"
     ]
    },
    {
     "data": {
      "text/plain": [
       "0"
      ]
     },
     "execution_count": 12,
     "metadata": {},
     "output_type": "execute_result"
    }
   ],
   "source": [
    "import matplotlib.pyplot as plt\n",
    "import numpy as np\n",
    "import pandas as pd\n",
    "from neuropy import plotting\n",
    "    # from brainstates_editor import editor\n",
    "from ephyviewer import mkQApp\n",
    "import subjects\n",
    "\n",
    "app = mkQApp()\n",
    "sigs = sess.eegfile.get_signal(theta_channel)\n",
    "\n",
    "win = editor(\n",
    "    brainstates,\n",
    "    sigs,\n",
    "    sess.emg,\n",
    "    filename=sess.filePrefix.with_suffix(\".test\"),\n",
    "    paradigm=sess.paradigm,\n",
    ")\n",
    "win.show()\n",
    "app.exec_()"
   ]
  },
  {
   "cell_type": "markdown",
   "metadata": {},
   "source": [
    "### Print out sessions for moving bokeh plots over to folders"
   ]
  },
  {
   "cell_type": "code",
   "execution_count": null,
   "metadata": {},
   "outputs": [],
   "source": [
    "# NSD sessions\n",
    "print(f\"NSD sessions:{[s.name for s in subjects.nsd.pf_sess]}\")"
   ]
  },
  {
   "cell_type": "code",
   "execution_count": null,
   "metadata": {},
   "outputs": [],
   "source": [
    "# SD sessions\n",
    "print(f\"SD sessions:{[s.name for s in subjects.sd.pf_sess]}\")"
   ]
  },
  {
   "cell_type": "code",
   "execution_count": null,
   "metadata": {},
   "outputs": [],
   "source": [
    "from neuropy.core import Epoch\n",
    "\n",
    "# sessions = subjects.sd.pf_sess\n",
    "sessions = subjects.sd.ratKday1\n",
    "\n",
    "_, axs = plt.subplots(4, 2)\n",
    "axs = axs.reshape(-1)\n",
    "\n",
    "for s, sess in enumerate(sessions):\n",
    "    post = sess.paradigm[\"post\"].flatten()\n",
    "    sd = [post[0], post[0] + 4.8 * 3600]\n",
    "    states = (\n",
    "        sess.brainstates[\"AW\"]\n",
    "        + sess.brainstates[\"QW\"]\n",
    "        + sess.brainstates[\"REM\"]\n",
    "        + sess.brainstates[\"NREM\"]\n",
    "        + sess.brainstates[\"NOISE\"]\n",
    "    )\n",
    "    states_df = states.to_dataframe()\n",
    "\n",
    "    fp = sess.filePrefix\n",
    "    # sess.brainstates.save(fp.with_suffix(\".backup.brainstates.06-12-2023\"))\n",
    "\n",
    "    starts = states.starts\n",
    "    labels = states.labels\n",
    "\n",
    "    rem_indx = (starts > sd[0]) & (starts < sd[1]) & (labels == \"REM\")\n",
    "    states_df.loc[rem_indx, \"label\"] = \"QW\"\n",
    "    nrem_indx = (starts > sd[0]) & (starts < sd[1]) & (labels == \"NREM\")\n",
    "    states_df.loc[nrem_indx, \"label\"] = \"QW\"\n",
    "\n",
    "    new_states = Epoch(states_df)\n",
    "    new_states.save(fp.with_suffix(\".brainstates.finer\"))\n",
    "\n",
    "    # plotting.plot_epochs(new_states, ax=axs[s])"
   ]
  },
  {
   "cell_type": "code",
   "execution_count": null,
   "metadata": {
    "jupyter": {
     "source_hidden": true
    }
   },
   "outputs": [],
   "source": [
    "new_states[\"NOISE\"].to_dataframe()"
   ]
  },
  {
   "attachments": {},
   "cell_type": "markdown",
   "metadata": {},
   "source": [
    "### Curate nrem during maze misclassification"
   ]
  },
  {
   "cell_type": "code",
   "execution_count": null,
   "metadata": {},
   "outputs": [],
   "source": [
    "from neuropy.core import Epoch\n",
    "\n",
    "sessions = subjects.ripple_sess()\n",
    "\n",
    "_, axs = plt.subplots(8, 2)\n",
    "axs = axs.reshape(-1)\n",
    "\n",
    "for s, sess in enumerate(sessions):\n",
    "    maze = sess.paradigm[\"maze\"].flatten()\n",
    "    states = (\n",
    "        sess.brainstates_fine[\"AW\"]\n",
    "        + sess.brainstates_fine[\"QW\"]\n",
    "        + sess.brainstates_fine[\"REM\"]\n",
    "        + sess.brainstates_fine[\"NREM\"]\n",
    "        + sess.brainstates_fine[\"NOISE\"]\n",
    "    )\n",
    "    states_df = states.to_dataframe()\n",
    "\n",
    "    fp = sess.filePrefix\n",
    "    # sess.brainstates.save(fp.with_suffix(\".backup.brainstates.06-12-2023\"))\n",
    "\n",
    "    starts = states.starts\n",
    "    labels = states.labels\n",
    "\n",
    "    rem_indx = (starts > maze[0]) & (starts < maze[1]) & (labels == \"REM\")\n",
    "    states_df.loc[rem_indx, \"label\"] = \"AW\"\n",
    "    nrem_indx = (starts > maze[0]) & (starts < maze[1]) & (labels == \"NREM\")\n",
    "    states_df.loc[nrem_indx, \"label\"] = \"QW\"\n",
    "\n",
    "    new_states = Epoch(states_df)\n",
    "    new_states.save(fp.with_suffix(\".brainstates.finer\"))\n",
    "\n",
    "    plotting.plot_epochs(new_states, ax=axs[s])"
   ]
  },
  {
   "attachments": {},
   "cell_type": "markdown",
   "metadata": {},
   "source": [
    "### ADD non sleep scored epochs as NOISE"
   ]
  },
  {
   "cell_type": "code",
   "execution_count": null,
   "metadata": {},
   "outputs": [],
   "source": [
    "sessions = subjects.ripple_sess()\n",
    "\n",
    "for s, sess in enumerate(sessions):\n",
    "    maze = sess.paradigm[\"maze\"]\n",
    "\n",
    "    starts = sess.brainstates_fine.starts\n",
    "    stops = sess.brainstates_fine.stops\n",
    "\n",
    "    gap = np.abs(stops[:-1] - starts[1:])\n",
    "    gap_indx = np.where(gap > 0)\n",
    "\n",
    "    noise_starts = stops[:-1][gap_indx]\n",
    "    noise_stops = starts[1:][gap_indx]\n",
    "    noise_states = sess.paradigm.from_array(noise_starts, noise_stops, \"NOISE\")\n",
    "\n",
    "    new_states = sess.brainstates_fine + noise_states\n",
    "    # new_states.save(sess.filePrefix.with_suffix(\".brainstates.finer\"))"
   ]
  },
  {
   "attachments": {},
   "cell_type": "markdown",
   "metadata": {},
   "source": [
    "### Create backup"
   ]
  },
  {
   "cell_type": "code",
   "execution_count": null,
   "metadata": {},
   "outputs": [],
   "source": [
    "sessions = subjects.ripple_sess()\n",
    "\n",
    "for s, sess in enumerate(sessions):\n",
    "    # suffix = \".brainstates.nature_first_submission\" #created for nature submission\n",
    "    suffix = \"put your suffix\"\n",
    "    sess.brainstates.save(sess.filePrefix.with_suffix(suffix))"
   ]
  },
  {
   "attachments": {},
   "cell_type": "markdown",
   "metadata": {
    "jp-MarkdownHeadingCollapsed": true
   },
   "source": [
    "### Convert old to new format"
   ]
  },
  {
   "cell_type": "code",
   "execution_count": null,
   "metadata": {
    "jupyter": {
     "source_hidden": true
    }
   },
   "outputs": [],
   "source": [
    "from neuropy.core import Epoch\n",
    "\n",
    "sessions = subjects.ripple_sess()\n",
    "\n",
    "for s, sess in enumerate(sessions):\n",
    "    brainstates = sess.brainstates\n",
    "\n",
    "    if brainstates is not None:\n",
    "        starts = sess.brainstates.starts\n",
    "        stops = sess.brainstates.stops\n",
    "        labels = sess.brainstates.labels\n",
    "\n",
    "        if \"nrem\" in np.unique(labels):\n",
    "            new_labels = np.array([\"\"] * len(labels), dtype=\"U4\")\n",
    "            new_labels[labels == \"active\"] = \"AW\"\n",
    "            new_labels[labels == \"quiet\"] = \"QW\"\n",
    "            new_labels[labels == \"rem\"] = \"REM\"\n",
    "            new_labels[labels == \"nrem\"] = \"NREM\"\n",
    "\n",
    "            fp = sess.filePrefix\n",
    "            brainstates.save(fp.with_suffix(\".backup.brainstates.05-30-2022\"))\n",
    "\n",
    "            valid_idx = new_labels != \"\"\n",
    "\n",
    "            new_states = Epoch.from_array(\n",
    "                starts[valid_idx], stops[valid_idx], new_labels[valid_idx]\n",
    "            )\n",
    "            new_states.save(fp.with_suffix(\".brainstates\"))"
   ]
  },
  {
   "attachments": {},
   "cell_type": "markdown",
   "metadata": {
    "jp-MarkdownHeadingCollapsed": true
   },
   "source": [
    "### Visualize different hypnogram styles"
   ]
  },
  {
   "cell_type": "code",
   "execution_count": null,
   "metadata": {
    "jupyter": {
     "source_hidden": true
    }
   },
   "outputs": [],
   "source": [
    "sess = subjects.nsd.ratSday2[0]\n",
    "post = sess.paradigm[\"post\"].flatten()\n",
    "period = [0, post[0] + 8 * 3600]\n",
    "states = sess.brainstates.time_slice(*period)\n",
    "starts = states.starts\n",
    "stops = states.stops\n",
    "labels = states.labels\n",
    "mids = (stops - starts) / 2 + starts\n",
    "edges = np.insert(starts, len(starts), stops[-1])\n",
    "\n",
    "num_dict = dict(NREM=1, REM=2, QW=3, AW=4)\n",
    "num_labels = [num_dict[_] for _ in labels]\n",
    "\n",
    "\n",
    "_, ax = plt.subplots()\n",
    "\n",
    "# ax.stairs(num_labels, edges, fill=False)\n",
    "ax.step(mids, num_labels, where=\"mid\", lw=1)\n",
    "ax.set_axis_off()"
   ]
  },
  {
   "attachments": {},
   "cell_type": "markdown",
   "metadata": {},
   "source": [
    "### Plot hypnogram with duration threshold"
   ]
  },
  {
   "cell_type": "code",
   "execution_count": null,
   "metadata": {},
   "outputs": [],
   "source": [
    "sessions = subjects.pf_sess()\n",
    "\n",
    "# _, axs = plt.subplots(5,4)\n",
    "fig = plotting.Fig(grid=(15, 6), hspace=0.5)\n",
    "\n",
    "for s, sess in enumerate(sessions[4:9]):\n",
    "    post = sess.paradigm[\"post\"].flatten()\n",
    "    t1, t2 = [post[0], post[0] + 8 * 3600]\n",
    "\n",
    "    for d, dur in enumerate([40, 60, 80, 120]):\n",
    "        # ax = axs[s,d]\n",
    "        ax = fig.subplot(fig.gs[s, d + 1])\n",
    "        ax.axis(\"off\")\n",
    "        states = sess.brainstates.time_slice(t1, t2, strict=False).duration_slice(\n",
    "            min_dur=dur\n",
    "        )\n",
    "        plotting.plot_epochs(\n",
    "            states,\n",
    "            ax=ax,\n",
    "            labels_order=[\"NREM\", \"REM\", \"QW\", \"AW\"],\n",
    "            colors=subjects.colors_sleep,\n",
    "            collapsed=False,\n",
    "        )\n",
    "        if s == 0:\n",
    "            ax.set_title(f\"min dur = {dur} s\")\n",
    "\n",
    "fig.savefig(subjects.figpath_sd / \"hypno_duration_thresh\")"
   ]
  },
  {
   "attachments": {},
   "cell_type": "markdown",
   "metadata": {},
   "source": [
    "### View brainstates detection in ephyviewer"
   ]
  },
  {
   "cell_type": "code",
   "execution_count": null,
   "metadata": {},
   "outputs": [],
   "source": []
  },
  {
   "cell_type": "code",
   "execution_count": null,
   "metadata": {},
   "outputs": [],
   "source": [
    "import matplotlib.pyplot as plt\n",
    "import numpy as np\n",
    "import pandas as pd\n",
    "from neuropy import plotting\n",
    "from brainstates_editor import editor\n",
    "from ephyviewer import mkQApp\n",
    "import subjects\n",
    "\n",
    "app = mkQApp()\n",
    "sess = subjects.nsd.ratVday1[0]\n",
    "sigs = sess.eegfile.get_signal(20)\n",
    "\n",
    "win = editor(\n",
    "    sess.brainstates,\n",
    "    sigs,\n",
    "    filename=sess.filePrefix.with_suffix(\".test\"),\n",
    "    paradigm=sess.paradigm,\n",
    ")\n",
    "win.show()\n",
    "app.exec_()"
   ]
  },
  {
   "attachments": {},
   "cell_type": "markdown",
   "metadata": {
    "jp-MarkdownHeadingCollapsed": true
   },
   "source": [
    "### Violinplots for state durations across all subjects"
   ]
  },
  {
   "cell_type": "code",
   "execution_count": null,
   "metadata": {
    "jupyter": {
     "source_hidden": true
    }
   },
   "outputs": [],
   "source": [
    "sessions = subjects.mua_sess()\n",
    "\n",
    "dur_df = []\n",
    "for se, sess in enumerate(sessions):\n",
    "    zt_epochs = sess.get_zt_epochs()\n",
    "    for e in zt_epochs.itertuples():\n",
    "        zt_states = sess.brainstates.time_slice(e.start, e.stop, strict=False)\n",
    "        e_durations = (\n",
    "            zt_states.to_dataframe().groupby(\"label\", sort=False).sum().reset_index()\n",
    "        )\n",
    "        e_durations[\"zt\"] = e.label\n",
    "        e_durations[\"grp\"] = sess.tag\n",
    "        # e_durations['name']=e.label\n",
    "\n",
    "        dur_df.append(e_durations)\n",
    "        # df = pd.Dataframe(dict(zt=e.label,states=e_durations['label'],duration=e_durations))\n",
    "\n",
    "\n",
    "dur_df = pd.concat(dur_df, ignore_index=True)\n",
    "dur_df[\"durationh\"] = dur_df[\"duration\"] / 3600"
   ]
  },
  {
   "cell_type": "code",
   "execution_count": null,
   "metadata": {
    "jupyter": {
     "source_hidden": true
    }
   },
   "outputs": [],
   "source": [
    "from plotters import violinplot\n",
    "\n",
    "_, axs = plt.subplots(2, 2)\n",
    "axs = axs.reshape(-1)\n",
    "\n",
    "\n",
    "for i, st in enumerate([\"AW\", \"QW\", \"REM\", \"NREM\"]):\n",
    "    df = dur_df[dur_df.label == st]\n",
    "    ax = axs[i]\n",
    "    violinplot(data=df, x=\"zt\", y=\"duration\", hue=\"grp\", ax=ax)"
   ]
  },
  {
   "attachments": {},
   "cell_type": "markdown",
   "metadata": {
    "jp-MarkdownHeadingCollapsed": true
   },
   "source": [
    "### Sleep fraction during 5 hours following MAZE"
   ]
  },
  {
   "cell_type": "code",
   "execution_count": null,
   "metadata": {
    "jupyter": {
     "source_hidden": true
    }
   },
   "outputs": [],
   "source": [
    "import matplotlib.pyplot as plt\n",
    "import numpy as np\n",
    "import pandas as pd\n",
    "from neuropy import plotting\n",
    "import subjects\n",
    "\n",
    "sessions = subjects.sd.brainstates_sess + subjects.nsd.brainstates_sess"
   ]
  },
  {
   "cell_type": "code",
   "execution_count": null,
   "metadata": {
    "jupyter": {
     "source_hidden": true
    }
   },
   "outputs": [],
   "source": [
    "sleep_df = pd.DataFrame()\n",
    "for sub, sess in enumerate(sessions):\n",
    "    post = sess.paradigm[\"post\"].flatten()\n",
    "    period = [post[0], post[0] + 5 * 3600]\n",
    "    prop = sess.brainstates.get_proportion_by_label(period[0], period[1])\n",
    "    if \"nan\" in prop.keys():\n",
    "        del prop[\"nan\"]\n",
    "\n",
    "    sleep_df = sleep_df.append(\n",
    "        pd.DataFrame(\n",
    "            {\n",
    "                \"prop\": list(prop.values()),\n",
    "                \"state\": list(prop.keys()),\n",
    "                \"grp\": sess.tag,\n",
    "            }\n",
    "        ),\n",
    "        ignore_index=True,\n",
    "    )\n",
    "\n",
    "subjects.GroupData().save(sleep_df, \"brainstates_proportion\")"
   ]
  },
  {
   "attachments": {},
   "cell_type": "markdown",
   "metadata": {
    "jp-MarkdownHeadingCollapsed": true
   },
   "source": [
    "### Combining brainstates into dataframe for plotting in sd_figure3\n",
    "- only POST epoch and in Zt time"
   ]
  },
  {
   "cell_type": "code",
   "execution_count": null,
   "metadata": {
    "jupyter": {
     "source_hidden": true
    }
   },
   "outputs": [],
   "source": [
    "sessions = subjects.pf_sess()\n",
    "\n",
    "brainstates_all = []\n",
    "for sub, sess in enumerate(sessions):\n",
    "    post = sess.paradigm[\"post\"].flatten()\n",
    "    states = sess.brainstates.time_slice(post[0], post[1])\n",
    "    starts = (states.starts - post[0]) / 3600\n",
    "    stops = (states.stops - post[0]) / 3600\n",
    "    df = pd.DataFrame(\n",
    "        dict(\n",
    "            start=starts,\n",
    "            stop=stops,\n",
    "            label=states.labels,\n",
    "            sub=sub,\n",
    "            name=sess.name,\n",
    "            grp=sess.tag,\n",
    "        )\n",
    "    )\n",
    "    brainstates_all.append(df)\n",
    "\n",
    "brainstates_all = pd.concat(brainstates_all, ignore_index=True)\n",
    "\n",
    "subjects.GroupData().save(brainstates_all, \"ev_brainstates\")"
   ]
  },
  {
   "cell_type": "code",
   "execution_count": null,
   "metadata": {
    "jupyter": {
     "source_hidden": true
    }
   },
   "outputs": [],
   "source": [
    "# Save all sessions for non-EV hypnogram plotting\n",
    "sessions = subjects.ripple_sess()\n",
    "\n",
    "brainstates_all = []\n",
    "for sub, sess in enumerate(sessions):\n",
    "    post = sess.paradigm[\"post\"].flatten()\n",
    "    states = sess.brainstates.time_slice(post[0], post[1])\n",
    "    starts = (states.starts - post[0]) / 3600\n",
    "    stops = (states.stops - post[0]) / 3600\n",
    "    df = pd.DataFrame(\n",
    "        dict(\n",
    "            start=starts,\n",
    "            stop=stops,\n",
    "            label=states.labels,\n",
    "            sub=sub,\n",
    "            name=sess.name,\n",
    "            grp=sess.tag,\n",
    "        )\n",
    "    )\n",
    "    brainstates_all.append(df)\n",
    "\n",
    "brainstates_all = pd.concat(brainstates_all, ignore_index=True)\n",
    "\n",
    "subjects.GroupData().save(brainstates_all, \"oscillation_brainstates\")"
   ]
  },
  {
   "cell_type": "code",
   "execution_count": null,
   "metadata": {
    "jupyter": {
     "source_hidden": true
    }
   },
   "outputs": [],
   "source": [
    "from neuropy.core.epoch import Epoch\n",
    "sd2_epochs = Epoch(df)\n",
    "epoch_nrem = Epoch(df[(df.start > 0) & (df.stop < 5) & (df.label == \"NREM\")])\n",
    "epoch_nrem.durations.sum()*3600"
   ]
  },
  {
   "cell_type": "code",
   "execution_count": null,
   "metadata": {
    "jupyter": {
     "source_hidden": true
    }
   },
   "outputs": [],
   "source": [
    "# Figure out why I observe different amounts of NREM overlapping with SD2 for EV vs firing dynamics figures - old ev_brainstates variable is outdated!!!\n",
    "from neuropy.core.epoch import Epoch, get_epoch_overlap_duration\n",
    "brainstates_all = []ev_\n",
    "ev_method_olap, fr_method_olap = [], []\n",
    "for sub, sess in enumerate(sessions):\n",
    "    post = sess.paradigm[\"post\"].flatten()\n",
    "    states = sess.brainstates.time_slice(post[0], post[1])\n",
    "    starts = (states.starts - post[0]) / 3600\n",
    "    stops = (states.stops - post[0]) / 3600\n",
    "    df = pd.DataFrame(\n",
    "        dict(\n",
    "            start=starts,\n",
    "            stop=stops,\n",
    "            label=states.labels,\n",
    "            sub=sub,\n",
    "            name=sess.name,\n",
    "            grp=sess.tag,\n",
    "        )\n",
    "    )\n",
    "    df_sd2_epochs = Epoch(df[(df.start > 0) & (df.stop < 5)])\n",
    "    epoch_nrem = Epoch(df[(df.start > 2.5) & (df.stop < 5) & (df.label == \"NREM\")])\n",
    "    ev_method_olap.append(epoch_nrem.durations.sum()*3600)\n",
    "\n",
    "    # Firing dynamics method\n",
    "    nrem = sess.brainstates[\"NREM\"]\n",
    "    ds2check = sess.get_zt_epochs()[\"2.5-5\"]\n",
    "    fr_method_olap.append(get_epoch_overlap_duration(nrem, ds2check))\n",
    "    brainstates_all.append(df)\n",
    "\n",
    "brainstates_all = pd.concat(brainstates_all, ignore_index=True)\n",
    "    \n",
    "ev_method_olap"
   ]
  },
  {
   "cell_type": "code",
   "execution_count": null,
   "metadata": {
    "jupyter": {
     "source_hidden": true
    }
   },
   "outputs": [],
   "source": [
    "fr_method_olap"
   ]
  },
  {
   "cell_type": "code",
   "execution_count": null,
   "metadata": {
    "jupyter": {
     "source_hidden": true
    }
   },
   "outputs": [],
   "source": [
    "brain"
   ]
  },
  {
   "cell_type": "code",
   "execution_count": null,
   "metadata": {
    "jupyter": {
     "source_hidden": true
    }
   },
   "outputs": [],
   "source": []
  },
  {
   "cell_type": "code",
   "execution_count": null,
   "metadata": {
    "jupyter": {
     "source_hidden": true
    }
   },
   "outputs": [],
   "source": [
    "sd2_df = brainstates_all[(brainstates_all.grp == \"SD\") & (brainstates_all.start > 2.5) & (brainstates_all.stop < 5)]\n",
    "nrem_amt = []\n",
    "for name in sd2_df.name.unique():\n",
    "    rat_df = sd2_df[sd2_df.name == name]\n",
    "    rat_epochs = Epoch(rat_df)\n",
    "    if \"NREM\" in rat_epochs.durations_by_label().keys():\n",
    "        nrem_amt.append(rat_epochs.durations_by_label()[\"NREM\"]*60)\n",
    "    else:\n",
    "        nrem_amt.append(0)\n",
    "    print(f\"{name}: {nrem_amt[-1]*60}\")"
   ]
  },
  {
   "cell_type": "code",
   "execution_count": null,
   "metadata": {
    "jupyter": {
     "source_hidden": true
    }
   },
   "outputs": [],
   "source": [
    "brainstates_all_old = subjects.GroupData().ev_brainstates\n",
    "sd2_df = brainstates_all_old[(brainstates_all_old.grp == \"SD\") & (brainstates_all_old.start > 2.5) & (brainstates_all_old.stop < 5)]\n",
    "nrem_amt = []\n",
    "for name in sd2_df.name.unique():\n",
    "    rat_df = sd2_df[sd2_df.name == name]\n",
    "    rat_epochs = Epoch(rat_df)\n",
    "    if \"NREM\" in rat_epochs.durations_by_label().keys():\n",
    "        nrem_amt.append(rat_epochs.durations_by_label()[\"NREM\"]*60)\n",
    "    else:\n",
    "        nrem_amt.append(0)\n",
    "    print(f\"{name}: {nrem_amt[-1]*60}\")\n"
   ]
  },
  {
   "attachments": {},
   "cell_type": "markdown",
   "metadata": {
    "jp-MarkdownHeadingCollapsed": true
   },
   "source": [
    "### Implement IRASA"
   ]
  },
  {
   "cell_type": "code",
   "execution_count": null,
   "metadata": {},
   "outputs": [],
   "source": [
    "import numpy as np\n",
    "import scipy.signal as sg\n",
    "import subjects\n",
    "import fractions\n",
    "from scipy import stats\n",
    "from fooof import FOOOF, FOOOFGroup\n",
    "\n",
    "sess = subjects.nsd.ratUday2[0]\n",
    "maze = sess.paradigm[\"maze\"].flatten()\n",
    "post = sess.paradigm[\"post\"].flatten()\n",
    "# period = [maze[0], maze[1]]\n",
    "period = [post[0] + 3600, post[0] + 2 * 3600]\n",
    "# period = [0,sess.eegfile.duration]\n",
    "data = sess.eegfile.get_signal(150, *period).traces[0]\n",
    "# data = sess.eegfile.get_signal(150).traces[0]\n",
    "\n",
    "welch_kw = dict(nperseg=4 * 1250, noverlap=625)\n",
    "freqs, psd = sg.welch(data, fs=1250, **welch_kw)\n",
    "# f, t, spect = sg.spectrogram(data, fs=1250, nperseg=2*1250, noverlap=625)\n",
    "\n",
    "# Start the IRASA procedure\n",
    "hset = np.arange(1.1, 2.9, 0.05).round(4)\n",
    "hset = np.delete(hset, 18)\n",
    "psds = np.zeros((len(hset), *psd.shape))\n",
    "\n",
    "fm = FOOOF()\n",
    "freq_range = [4, 90]\n",
    "\n",
    "# fm.report(freqs,psd,freq_range)\n",
    "fm.report(freqs, psd, freq_range)\n",
    "# fm.plot()\n",
    "# fm.power_spectrum\n",
    "\n",
    "# for i, h in enumerate(hset):\n",
    "#     # Get the upsampling/downsampling (h, 1/h) factors as integer\n",
    "#     rat = fractions.Fraction(str(h))\n",
    "#     up, down = rat.numerator, rat.denominator\n",
    "#     # Much faster than FFT-based resampling\n",
    "#     spect_up = sg.resample_poly(spect, up, down, axis=0)\n",
    "#     spect_down = sg.resample_poly(spect, down, up, axis=0)\n",
    "#     psds[i, :] =np.dstack([spect_up,spect_down]).mean(axis=-1)\n",
    "\n",
    "# for i, h in enumerate(hset):\n",
    "#     # Get the upsampling/downsampling (h, 1/h) factors as integer\n",
    "#     rat = fractions.Fraction(str(h))\n",
    "#     up, down = rat.numerator, rat.denominator\n",
    "#     # Much faster than FFT-based resampling\n",
    "#     data_up = sg.resample_poly(data, up, down, axis=-1)\n",
    "#     data_down = sg.resample_poly(data, down, up, axis=-1)\n",
    "#     # Calculate the PSD using same params as original\n",
    "#     freqs_up, psd_up = sg.welch(data_up, h * 1250, **welch_kw)\n",
    "#     freqs_dw, psd_dw = sg.welch(data_down, 1250 / h, **welch_kw)\n",
    "#     # Geometric mean of h and 1/h\n",
    "#     # psds[i, :] = np.vstack((psd_up, psd_dw)).mean(axis=0)\n",
    "#     psds[i, :] = np.sqrt(psd_up * psd_dw)\n",
    "\n",
    "\n",
    "# Now we take the median PSD of all the resampling factors, which gives\n",
    "# a good estimate of the aperiodic component of the PSD.\n",
    "# psd_aperiodic = np.median(psds, axis=0)\n",
    "# print(psd_aperiodic.shape,psd_aperiodic[:2])\n",
    "\n",
    "# # We can now calculate the oscillations (= periodic) component.\n",
    "# psd_osc = psd - psd_aperiodic\n",
    "\n",
    "# # Let's crop to the frequencies defined in band\n",
    "# mask_freqs = np.ma.masked_outside(freqs, *band).mask\n",
    "# freqs = freqs[~mask_freqs]\n",
    "# psd_aperiodic = np.compress(~mask_freqs, psd_aperiodic, axis=-1)\n",
    "# psd_osc = np.compress(~mask_freqs, psd_osc, axis=-1)"
   ]
  },
  {
   "cell_type": "code",
   "execution_count": null,
   "metadata": {},
   "outputs": [],
   "source": [
    "import matplotlib.pyplot as plt\n",
    "\n",
    "indices = (freqs >= 4) & (freqs <= 90)\n",
    "p = psd[indices]\n",
    "plt.plot(freqs[indices], np.log10(p))\n",
    "plt.plot(freqs[(freqs >= 4) & (freqs <= 90)], fm._ap_fit)\n",
    "# plt.yscale('log')"
   ]
  },
  {
   "cell_type": "code",
   "execution_count": null,
   "metadata": {},
   "outputs": [],
   "source": [
    "import matplotlib.pyplot as plt\n",
    "from neuropy.utils.mathutil import min_max_scaler\n",
    "\n",
    "f, t, spect = sg.spectrogram(data, fs=1250, **welch_kw)\n",
    "ind = (f >= 4) & (f <= 90)\n",
    "spect = np.log10(spect[ind, :])\n",
    "# spect_osc = spect- fm._ap_fit[:,np.newaxis]\n",
    "# spect_osc[spect_osc<0]=0\n",
    "\n",
    "# req_ind = (f>1)&(f<30)\n",
    "# # delta_ind = (f>0.5)&(f<4)\n",
    "# theta_ind = (f>5)&(f<10)\n",
    "# # delta_sxx = spect_osc[delta_ind,:].mean(axis=0)\n",
    "# theta_sxx = spect_osc[theta_ind,:].mean(axis=0)\n",
    "\n",
    "_, axs = plt.subplots(5, 1, sharex=True)\n",
    "\n",
    "axs[0].imshow(\n",
    "    spect, origin=\"lower\", aspect=\"auto\", cmap=\"jet\", extent=[t[0], t[-1], 4, 90]\n",
    ")\n",
    "# axs[1].imshow(spect[req_ind,:],origin='lower',aspect='auto',vmax=25000,cmap='jet',extent=[t[0],t[-1],1,30])\n",
    "\n",
    "# axs[2].plot(t,theta_sxx)\n",
    "# axs[3].plot(t,delta_sxx)\n",
    "# axs[4].plot(t,theta_sxx/delta_sxx)"
   ]
  },
  {
   "cell_type": "code",
   "execution_count": null,
   "metadata": {},
   "outputs": [],
   "source": [
    "%matplotlib widget\n",
    "import matplotlib.pyplot as plt\n",
    "\n",
    "plt.plot(freqs,psd_aperiodic)\n",
    "plt.plot(freqs,psd)\n",
    "plt.plot(freqs,psd-psd_aperiodic)\n",
    "plt.yscale('log')\n",
    "plt.xscale('log')"
   ]
  },
  {
   "attachments": {},
   "cell_type": "markdown",
   "metadata": {
    "jp-MarkdownHeadingCollapsed": true
   },
   "source": [
    "### Some measure of micro-arousal in sleep vs recovery sleep using emg only"
   ]
  },
  {
   "cell_type": "code",
   "execution_count": null,
   "metadata": {
    "jupyter": {
     "source_hidden": true
    }
   },
   "outputs": [],
   "source": [
    "import numpy as np\n",
    "from neuropy.analyses.brainstates import detect_brainstates_epochs\n",
    "from neuropy.core import Epoch\n",
    "from scipy.ndimage import gaussian_filter1d\n",
    "from neuropy.analyses.brainstates import correlation_emg\n",
    "from scipy import stats\n",
    "from neuropy.analyses.brainstates import hmmfit1d\n",
    "import matplotlib.pyplot as plt\n",
    "from neuropy.plotting import plot_hypnogram\n",
    "import subjects\n",
    "\n",
    "smooth = lambda arr: gaussian_filter1d(arr, sigma=2 / 1)\n",
    "\n",
    "sessions = subjects.nsd.ripple_sess[2:3] + subjects.sd.ripple_sess[2:3]"
   ]
  },
  {
   "cell_type": "code",
   "execution_count": null,
   "metadata": {
    "jupyter": {
     "source_hidden": true
    }
   },
   "outputs": [],
   "source": [
    "emg_all = []\n",
    "for sub, sess in enumerate(sessions):\n",
    "    pre = sess.paradigm[\"pre\"].flatten()\n",
    "    maze = sess.paradigm[\"maze\"].flatten()\n",
    "    post = sess.paradigm[\"post\"].flatten()\n",
    "    if sess.tag == \"NSD\":\n",
    "        period = [post[0], post[0] + 4 * 3600]\n",
    "    if sess.tag == \"SD\":\n",
    "        period = [post[0] + 5 * 3600, post[0] + 9 * 3600]\n",
    "\n",
    "    all_channels = np.concatenate(sess.probegroup.get_connected_channels()).astype(\"int\")\n",
    "    signal = sess.eegfile.get_signal(t_start=period[0], t_stop=period[1])\n",
    "    emg = correlation_emg(signal, sess.probegroup, 10, 9)\n",
    "    emg_all.append(smooth(emg))"
   ]
  },
  {
   "cell_type": "code",
   "execution_count": null,
   "metadata": {
    "jupyter": {
     "source_hidden": true
    }
   },
   "outputs": [],
   "source": [
    "from scipy.signal import find_peaks\n",
    "\n",
    "_, axs = plt.subplots(2, 1)\n",
    "\n",
    "for i, e in enumerate(emg_all):\n",
    "    peaks = find_peaks(e, prominence=0.3)[0]\n",
    "    axs[i].plot(e)\n",
    "    axs[i].plot(peaks, e[peaks], \"*\")"
   ]
  },
  {
   "attachments": {},
   "cell_type": "markdown",
   "metadata": {
    "jp-MarkdownHeadingCollapsed": true
   },
   "source": [
    "### Check transition boundaries\n",
    "- check reliability of sleepscoring by zooming in on transition boundaries"
   ]
  },
  {
   "cell_type": "code",
   "execution_count": null,
   "metadata": {
    "jupyter": {
     "source_hidden": true
    }
   },
   "outputs": [],
   "source": [
    "from neuropy.utils.signal_process import FourierSg, WaveletSg\n",
    "\n",
    "sess = subjects.nsd.ratNday2[0]\n",
    "states = sess.brainstates[\"QW\"]\n",
    "starts = states.starts\n",
    "stops = states.stops\n",
    "n_states = len(states)\n",
    "\n",
    "before, after = 40, 30\n",
    "start = starts[64]\n",
    "t1, t2 = start - before, start + after\n",
    "eeg = sess.eegfile.get_signal(116, t1, t2)\n",
    "eeg_time = np.linspace(-before, after, eeg.n_frames)\n",
    "spect = FourierSg(eeg, window=1, overlap=0.8, norm_sig=True).freq_slice(0, 30)\n",
    "wspect = WaveletSg(eeg, freqs=np.arange(0.25, 30, 0.25), ncycles=10)\n",
    "spect_thratio = spect.theta_delta_ratio\n",
    "wspect_thratio = wspect.theta_deltaplus_ratio"
   ]
  },
  {
   "cell_type": "code",
   "execution_count": null,
   "metadata": {
    "jupyter": {
     "source_hidden": true
    }
   },
   "outputs": [],
   "source": [
    "_, axs = plt.subplots(4, 1, sharex=True)\n",
    "\n",
    "axs[0].plot(eeg.time - start, eeg.traces[0])\n",
    "axs[0].axvline(0, color=\"k\")\n",
    "axs[1].pcolormesh(spect.time - start, spect.freqs, spect.traces, cmap=\"jet\")\n",
    "axs[2].pcolormesh(wspect.time - start, wspect.freqs, wspect.traces, cmap=\"jet\")\n",
    "# axs[3].plot(spect.time-start,spect_thratio)\n",
    "axs[3].plot(spect.time - start, spect.theta / spect.get_band_power(2, 28))"
   ]
  },
  {
   "attachments": {},
   "cell_type": "markdown",
   "metadata": {
    "jp-MarkdownHeadingCollapsed": true
   },
   "source": [
    "### Amount/proportion of different brainstates across zt epochs/blocks"
   ]
  },
  {
   "cell_type": "code",
   "execution_count": null,
   "metadata": {
    "jupyter": {
     "source_hidden": true
    }
   },
   "outputs": [],
   "source": [
    "sessions = subjects.mua_sess()\n",
    "\n",
    "states_df = []\n",
    "for s, sess in enumerate(sessions):\n",
    "    epochs = sess.get_zt_epochs()\n",
    "\n",
    "    for e in epochs.itertuples():\n",
    "        e_states = sess.brainstates.time_slice(e.start, e.stop, strict=False)\n",
    "        e_durations_label = e_states.durations_by_label()\n",
    "        e_proportion_label = {k: v / e.duration for k, v in e_durations_label.items()}\n",
    "        e_df = pd.DataFrame(e_proportion_label, index=[0])\n",
    "        e_df[\"zt\"] = e.label\n",
    "        e_df[\"session\"] = s\n",
    "        e_df[\"name\"] = sess.animal.name + sess.animal.day\n",
    "        e_df[\"grp\"] = sess.tag\n",
    "        states_df.append(e_df)\n",
    "\n",
    "states_df = pd.concat(states_df, ignore_index=True)\n",
    "states_df.fillna(0, inplace=True)\n",
    "states_df = pd.melt(\n",
    "    states_df,\n",
    "    id_vars=[\"zt\", \"name\", \"session\", \"grp\"],\n",
    "    value_vars=[\"AW\", \"NOISE\", \"QW\", \"NREM\", \"REM\"],\n",
    "    var_name=\"state\",\n",
    "    value_name=\"prop\",\n",
    ")"
   ]
  },
  {
   "cell_type": "markdown",
   "metadata": {
    "jp-MarkdownHeadingCollapsed": true
   },
   "source": [
    "### Determine which NSD animal has almost no NREM during the 0-2.5hr block"
   ]
  },
  {
   "cell_type": "code",
   "execution_count": null,
   "metadata": {
    "jupyter": {
     "source_hidden": true
    }
   },
   "outputs": [],
   "source": [
    "# Figure out which rat has almost no NREM during 0-2.5 block: RatKDay2\n",
    "print(states_df[(states_df.zt == \"0-2.5\") & (states_df.state == \"NREM\")].iloc[1, :])\n",
    "# Now print out all data for that rat\n",
    "states_df[(states_df.zt == \"0-2.5\") & (states_df.name == \"RatKDay2\")]"
   ]
  },
  {
   "cell_type": "markdown",
   "metadata": {
    "jp-MarkdownHeadingCollapsed": true
   },
   "source": [
    "### EDF2B: Plot state proportions\n",
    "Run \"Amount/proportion of different brainstates across zt epochs/blocks above\"\n",
    "- need access to raw data, contact authors"
   ]
  },
  {
   "cell_type": "code",
   "execution_count": null,
   "metadata": {
    "jupyter": {
     "source_hidden": true
    }
   },
   "outputs": [],
   "source": [
    "import plotters\n",
    "\n",
    "fig = subjects.SdFig().fig_supp()\n",
    "\n",
    "for i, state in enumerate([\"NREM\", \"REM\", \"AW\", \"QW\"]):\n",
    "    ax = fig.subplot(fig.gs[i])\n",
    "    df = states_df[(states_df.state == state)]\n",
    "    p1 = plotters.Plotter(data=df, x=\"zt\", y=\"prop\", hue=\"grp\")\n",
    "    p1.stripbarlineplot_sd(palette=subjects.colors_sd())\n",
    "    ax.set_ylim(0, 1)\n",
    "\n",
    "    if i > 0:\n",
    "        ax.set_yticklabels([])\n",
    "        ax.set_ylabel(\"\")\n",
    "\n",
    "fig.savefig(subjects.figpath_sd / \"state_prop\", format=\"svg\")"
   ]
  },
  {
   "cell_type": "markdown",
   "metadata": {},
   "source": [
    "Run stats on QW and AW from SD1 to SD2"
   ]
  },
  {
   "cell_type": "code",
   "execution_count": null,
   "metadata": {
    "jupyter": {
     "source_hidden": true
    }
   },
   "outputs": [],
   "source": [
    "states_df"
   ]
  },
  {
   "cell_type": "code",
   "execution_count": null,
   "metadata": {
    "jupyter": {
     "source_hidden": true
    }
   },
   "outputs": [],
   "source": [
    "from scipy.stats import ttest_rel\n",
    "sd_states = states_df[states_df.grp == \"SD\"]\n",
    "sd_states[(sd_states.state == \"QW\") & (sd_states.zt == \"0-2.5\")]"
   ]
  },
  {
   "cell_type": "code",
   "execution_count": null,
   "metadata": {
    "jupyter": {
     "source_hidden": true
    }
   },
   "outputs": [],
   "source": [
    "from scipy.stats import ttest_rel\n",
    "sd_states = states_df[states_df.grp == \"SD\"]\n",
    "for state in [\"AW\", \"QW\"]:\n",
    "    res= ttest_rel(sd_states[(sd_states.state == state) & (sd_states.zt == \"0-2.5\")].prop,\n",
    "                       sd_states[(sd_states.state == state) & (sd_states.zt == \"2.5-5\")].prop)\n",
    "    print(f\"{state}: p={res.pvalue}, stat={res.statistic}, df={res.df}\")"
   ]
  },
  {
   "cell_type": "code",
   "execution_count": null,
   "metadata": {
    "jupyter": {
     "source_hidden": true
    }
   },
   "outputs": [],
   "source": [
    "fig = plotting.Fig(4, 5)\n",
    "states = [\"AW\", \"QW\", \"NREM\", \"REM\"]\n",
    "colors = [\"#2f2d2d\", \"#8c8c8c\", \"#3368db\", \"#33dbae\"]\n",
    "zts = states_df.zt.unique()\n",
    "for i, zt in enumerate(zts):\n",
    "    df = states_df[states_df.zt == zt]\n",
    "    names = df.name.values\n",
    "    state_prop = df.loc[:, [\"AW\", \"QW\", \"REM\", \"NREM\"]]\n",
    "    ax = fig.subplot(fig.gs[i])\n",
    "    ax.set_xlabel(zt)\n",
    "\n",
    "    left = np.zeros(len(names))\n",
    "    for s, state in enumerate(states):\n",
    "        y = state_prop[state].values\n",
    "        ax.barh(names, y, left=left, color=colors[s])\n",
    "        left = y + left"
   ]
  },
  {
   "attachments": {},
   "cell_type": "markdown",
   "metadata": {},
   "source": [
    "### Visualize conctenated active waking epochs"
   ]
  },
  {
   "cell_type": "code",
   "execution_count": null,
   "metadata": {},
   "outputs": [],
   "source": [
    "from neuropy.utils.signal_process import FourierSg, WaveletSg\n",
    "from neuropy.core import Signal\n",
    "\n",
    "sess = subjects.nsd.ratUday2[0]\n",
    "# states = sess.brainstates[\"QW\"] + sess.brainstates[\"AW\"] + sess.brainstates[\"REM\"]\n",
    "eeg = []\n",
    "for state_name in [\"QW\", \"AW\", \"REM\"]:\n",
    "    states = sess.brainstates[state_name]\n",
    "    eeg.append(sess.eegfile.get_frames_within_epochs(states, 58))\n",
    "\n",
    "eeg = Signal(traces=np.hstack(eeg), sampling_rate=1250)\n",
    "spect = FourierSg(eeg, window=2, overlap=0.8, norm_sig=True).freq_slice(0, 30)\n",
    "# wspect = WaveletSg(eeg, freqs=np.arange(0.25, 30, 0.25), ncycles=10)\n",
    "# spect_thratio = spect.theta_delta_ratio\n",
    "# wspect_thratio = wspect.theta_deltaplus_ratio"
   ]
  },
  {
   "cell_type": "code",
   "execution_count": null,
   "metadata": {},
   "outputs": [],
   "source": [
    "_, ax = plt.subplots()\n",
    "\n",
    "ax.pcolormesh(spect.time, spect.freqs, spect.traces, vmax=0.6, cmap=\"binary\")"
   ]
  },
  {
   "attachments": {},
   "cell_type": "markdown",
   "metadata": {
    "jp-MarkdownHeadingCollapsed": true
   },
   "source": [
    "### Amount/proportion NREM across zt epochs/blocks"
   ]
  },
  {
   "cell_type": "code",
   "execution_count": null,
   "metadata": {
    "jupyter": {
     "source_hidden": true
    },
    "tags": [
     "sd_paper"
    ]
   },
   "outputs": [],
   "source": [
    "sessions = subjects.pf_sess()\n",
    "\n",
    "nrem_df = []\n",
    "for s, sess in enumerate(sessions):\n",
    "    post = sess.paradigm[\"post\"].flatten()\n",
    "    nrem = sess.brainstates[\"NREM\"]\n",
    "\n",
    "    zt_starts = np.arange(post[0], post[0] + 7.35 * 3600, 300)\n",
    "    zt_stops = zt_starts + 900\n",
    "    zt_labels = np.arange(len(zt_starts)).astype(\"str\")\n",
    "    zt_epochs = sess.paradigm.from_array(zt_starts, zt_stops, zt_labels)\n",
    "\n",
    "    for e in zt_epochs.itertuples():\n",
    "        e_duration = nrem.time_slice(e.start, e.stop, strict=False).durations.sum()\n",
    "        e_df = pd.DataFrame({\"duration\": e_duration}, index=[0])\n",
    "        e_df[\"zt\"] = e.label\n",
    "        e_df[\"session\"] = s\n",
    "        e_df[\"name\"] = sess.animal.name + sess.animal.day\n",
    "        e_df[\"grp\"] = sess.tag\n",
    "        nrem_df.append(e_df)\n",
    "\n",
    "nrem_df = pd.concat(nrem_df, ignore_index=True)\n",
    "subjects.GroupData().save(nrem_df, \"nrem_duration_NREM\")"
   ]
  },
  {
   "cell_type": "code",
   "execution_count": null,
   "metadata": {
    "jupyter": {
     "source_hidden": true
    }
   },
   "outputs": [],
   "source": [
    "fig = plotting.Fig(8, 5)\n",
    "\n",
    "ax = fig.subplot(fig.gs[0])\n",
    "\n",
    "# for g, grp in enumerate([\"NSD\", \"SD\"]):\n",
    "mean_duration = nrem_df.groupby([\"grp\", \"zt\"]).mean(numeric_only=True).reset_index()\n",
    "mean_duration[\"zt\"] = mean_duration[\"zt\"].astype(\"float\") * (5 / 60)\n",
    "mean_duration[\"duration\"] = mean_duration[\"duration\"] / (900)\n",
    "\n",
    "sns.lineplot(data=mean_duration, x=\"zt\", y=\"duration\", hue=\"grp\")\n",
    "ax.legend(\"\", frameon=False)\n",
    "ax.set_ylim(0, 1)"
   ]
  },
  {
   "attachments": {},
   "cell_type": "markdown",
   "metadata": {
    "jp-MarkdownHeadingCollapsed": true
   },
   "source": [
    "### Amount/proportion NREM across zt epochs/blocks aligned by NREM"
   ]
  },
  {
   "cell_type": "code",
   "execution_count": null,
   "metadata": {
    "jupyter": {
     "source_hidden": true
    }
   },
   "outputs": [],
   "source": [
    "sessions = subjects.pf_sess()\n",
    "\n",
    "nrem_df = []\n",
    "for s, sess in enumerate(sessions):\n",
    "    post = sess.paradigm[\"post\"].flatten()\n",
    "    nrem = sess.brainstates[\"NREM\"]\n",
    "    good_nrem = (\n",
    "        sess.brainstates.label_slice([\"NREM\"])\n",
    "        .time_slice(*post, strict=False)\n",
    "        .duration_slice(min_dur=120)\n",
    "    )\n",
    "    nrem_onset = good_nrem[0].flatten()[0]\n",
    "    # if sess.tag == \"SD\":\n",
    "    # nrem_onset = post[0] + 5 * 3600\n",
    "    print(sess.tag, sess.sub_name, (nrem_onset - post[0]) / 3600)\n",
    "\n",
    "    zt_starts = np.arange(nrem_onset, post[0] + 7.35 * 3600, 300)\n",
    "    zt_stops = zt_starts + 900\n",
    "    zt_labels = np.arange(len(zt_starts)).astype(\"str\")\n",
    "    zt_epochs = sess.paradigm.from_array(zt_starts, zt_stops, zt_labels)\n",
    "\n",
    "    for e in zt_epochs.itertuples():\n",
    "        e_duration = nrem.time_slice(e.start, e.stop, strict=False).durations.sum()\n",
    "        e_df = pd.DataFrame({\"duration\": e_duration}, index=[0])\n",
    "        e_df[\"zt\"] = e.label\n",
    "        e_df[\"session\"] = s\n",
    "        e_df[\"name\"] = sess.animal.name + sess.animal.day\n",
    "        e_df[\"grp\"] = sess.tag\n",
    "        nrem_df.append(e_df)\n",
    "\n",
    "nrem_df = pd.concat(nrem_df, ignore_index=True)\n",
    "subjects.GroupData().save(nrem_df, \"nrem_duration_aligned_by_nrem_onset\")"
   ]
  },
  {
   "cell_type": "code",
   "execution_count": null,
   "metadata": {
    "jupyter": {
     "source_hidden": true
    }
   },
   "outputs": [],
   "source": [
    "fig = plotting.Fig(8, 5)\n",
    "\n",
    "ax = fig.subplot(fig.gs[0])\n",
    "\n",
    "# for g, grp in enumerate([\"NSD\", \"SD\"]):\n",
    "mean_duration = nrem_df.groupby([\"grp\", \"zt\"]).mean(numeric_only=True).reset_index()\n",
    "mean_duration[\"zt\"] = mean_duration[\"zt\"].astype(\"float\") * (5 / 60)\n",
    "mean_duration[\"duration\"] = mean_duration[\"duration\"] / (900)\n",
    "\n",
    "sns.lineplot(data=mean_duration, x=\"zt\", y=\"duration\", hue=\"grp\")\n",
    "ax.legend(\"\", frameon=False)\n",
    "ax.set_ylim(0, 1)"
   ]
  },
  {
   "attachments": {},
   "cell_type": "markdown",
   "metadata": {
    "jp-MarkdownHeadingCollapsed": true
   },
   "source": [
    "### Amount/proportion WAKE across zt epochs/blocks aligned by light cycle"
   ]
  },
  {
   "cell_type": "code",
   "execution_count": null,
   "metadata": {
    "jupyter": {
     "source_hidden": true
    }
   },
   "outputs": [],
   "source": [
    "sessions = subjects.pf_sess()\n",
    "\n",
    "wake_df = []\n",
    "for s, sess in enumerate(sessions):\n",
    "    post = sess.paradigm[\"post\"].flatten()\n",
    "    wake = sess.brainstates.label_slice([\"AW\", \"QW\"]).set_labels(\"WK\").merge_neighbors()\n",
    "\n",
    "    zt_starts = np.arange(post[0], post[0] + 7.35 * 3600, 300)\n",
    "    zt_stops = zt_starts + 900\n",
    "    zt_labels = np.arange(len(zt_starts)).astype(\"str\")\n",
    "    zt_epochs = sess.paradigm.from_array(zt_starts, zt_stops, zt_labels)\n",
    "\n",
    "    for e in zt_epochs.itertuples():\n",
    "        e_duration = wake.time_slice(e.start, e.stop, strict=False).durations.sum()\n",
    "        e_df = pd.DataFrame({\"duration\": e_duration}, index=[0])\n",
    "        e_df[\"zt\"] = e.label\n",
    "        e_df[\"session\"] = s\n",
    "        e_df[\"name\"] = sess.animal.name + sess.animal.day\n",
    "        e_df[\"grp\"] = sess.tag\n",
    "        wake_df.append(e_df)\n",
    "\n",
    "wake_df = pd.concat(wake_df, ignore_index=True)\n",
    "subjects.GroupData().save(wake_df, \"wake_duration_aligned_by_WAKE\")"
   ]
  },
  {
   "cell_type": "code",
   "execution_count": null,
   "metadata": {
    "jupyter": {
     "source_hidden": true
    }
   },
   "outputs": [],
   "source": [
    "mean_duration"
   ]
  },
  {
   "cell_type": "code",
   "execution_count": null,
   "metadata": {
    "jupyter": {
     "source_hidden": true
    }
   },
   "outputs": [],
   "source": [
    "fig = plotting.Fig(8, 5)\n",
    "\n",
    "ax = fig.subplot(fig.gs[0])\n",
    "\n",
    "# for g, grp in enumerate([\"NSD\", \"SD\"]):\n",
    "mean_duration = wake_df.groupby([\"grp\", \"zt\"]).mean(numeric_only=True).reset_index()\n",
    "mean_duration[\"zt\"] = mean_duration[\"zt\"].astype(\"float\") * (5 / 60)\n",
    "mean_duration[\"duration\"] = mean_duration[\"duration\"] / (900)\n",
    "\n",
    "sns.lineplot(data=mean_duration, x=\"zt\", y=\"duration\", hue=\"grp\", drawstyle=\"steps-mid\")\n",
    "ax.legend(\"\", frameon=False)\n",
    "ax.set_ylim(0, 1)"
   ]
  },
  {
   "attachments": {},
   "cell_type": "markdown",
   "metadata": {
    "jp-MarkdownHeadingCollapsed": true
   },
   "source": [
    "### Comparing bout duration of NREM and REM between NSD and SD"
   ]
  },
  {
   "cell_type": "code",
   "execution_count": null,
   "metadata": {
    "jupyter": {
     "source_hidden": true
    }
   },
   "outputs": [],
   "source": [
    "sessions = subjects.ripple_sess()\n",
    "\n",
    "states_duration_df = []\n",
    "for s, sess in enumerate(sessions):\n",
    "    zt_epochs = sess.get_zt_epochs()[2:]\n",
    "    states = sess.brainstates.label_slice([\"NREM\", \"REM\"])\n",
    "\n",
    "    for e in zt_epochs.itertuples():\n",
    "        indx = (states.starts >= e.start) & (states.starts <= e.stop)\n",
    "        e_states = states[indx]\n",
    "\n",
    "        df = pd.DataFrame(\n",
    "            dict(\n",
    "                duration=e_states.durations,\n",
    "                brainstate=e_states.labels,\n",
    "                zt=e.label,\n",
    "                session=s,\n",
    "                grp=sess.tag,\n",
    "            )\n",
    "        )\n",
    "\n",
    "        states_duration_df.append(df)\n",
    "\n",
    "states_duration_df = pd.concat(states_duration_df, ignore_index=True)"
   ]
  },
  {
   "cell_type": "code",
   "execution_count": null,
   "metadata": {
    "jupyter": {
     "source_hidden": true
    }
   },
   "outputs": [],
   "source": [
    "_, axs = plt.subplots(1, 2)\n",
    "\n",
    "for i, state in enumerate([\"NREM\", \"REM\"]):\n",
    "    df = states_duration_df[states_duration_df.brainstate == state]\n",
    "    sns.stripplot(\n",
    "        data=df,\n",
    "        x=\"zt\",\n",
    "        y=\"duration\",\n",
    "        hue=\"grp\",\n",
    "        hue_order=[\"NSD\", \"SD\"],\n",
    "        ax=axs[i],\n",
    "        dodge=True,\n",
    "    )"
   ]
  },
  {
   "attachments": {},
   "cell_type": "markdown",
   "metadata": {
    "jp-MarkdownHeadingCollapsed": true
   },
   "source": [
    "### Comparing total duration of NREM and REM between NSD and SD"
   ]
  },
  {
   "cell_type": "code",
   "execution_count": null,
   "metadata": {
    "jupyter": {
     "source_hidden": true
    }
   },
   "outputs": [],
   "source": [
    "sessions = subjects.ripple_sess()\n",
    "\n",
    "states_duration_df = []\n",
    "for s, sess in enumerate(sessions):\n",
    "    zt_epochs = sess.get_zt_epochs()[2:]\n",
    "    states = sess.brainstates.label_slice([\"NREM\", \"REM\"])\n",
    "\n",
    "    for e in zt_epochs.itertuples():\n",
    "        e_states = states.time_slice(e.start, e.stop, strict=False)\n",
    "        df = pd.DataFrame(\n",
    "            dict(\n",
    "                nrem_duration=[e_states[\"NREM\"].durations.sum()],\n",
    "                rem_duration=[e_states[\"REM\"].durations.sum()],\n",
    "                zt=e.label,\n",
    "                session=s,\n",
    "                grp=sess.tag,\n",
    "            )\n",
    "        )\n",
    "\n",
    "        states_duration_df.append(df)\n",
    "\n",
    "states_duration_df = pd.concat(states_duration_df, ignore_index=True)"
   ]
  },
  {
   "cell_type": "code",
   "execution_count": null,
   "metadata": {
    "jupyter": {
     "source_hidden": true
    }
   },
   "outputs": [],
   "source": [
    "_, axs = plt.subplots()\n",
    "\n",
    "sns.stripplot(\n",
    "    data=states_duration_df,\n",
    "    x=\"zt\",\n",
    "    y=\"rem_duration\",\n",
    "    hue=\"grp\",\n",
    "    hue_order=[\"NSD\", \"SD\"],\n",
    "    ax=axs,\n",
    "    dodge=True,\n",
    ")"
   ]
  },
  {
   "cell_type": "code",
   "execution_count": null,
   "metadata": {
    "jupyter": {
     "source_hidden": true
    }
   },
   "outputs": [],
   "source": [
    "func = lambda df: df.groupby([])"
   ]
  },
  {
   "cell_type": "markdown",
   "metadata": {
    "jp-MarkdownHeadingCollapsed": true
   },
   "source": [
    "### What percentage of SD is sleep ?"
   ]
  },
  {
   "cell_type": "code",
   "execution_count": null,
   "metadata": {
    "jupyter": {
     "source_hidden": true
    }
   },
   "outputs": [],
   "source": [
    "sessions = subjects.sd.allsess\n",
    "\n",
    "nrem_df = []\n",
    "nrem_dur_all = 0\n",
    "for s, sess in enumerate(sessions):\n",
    "    post = sess.paradigm[\"post\"].flatten()\n",
    "    nrem_dur = (\n",
    "        sess.brainstates[\"NREM\"]\n",
    "        .time_slice(post[0], post[0] + 5 * 3600, strict=False)\n",
    "        .durations.sum()\n",
    "    )\n",
    "\n",
    "    nrem_dur_all += nrem_dur\n",
    "\n",
    "    nrem_perc = nrem_dur / (5 * 3600)\n",
    "\n",
    "    df = pd.DataFrame({\"nrem_perc\": [nrem_perc], \"grp\": sess.tag})\n",
    "    nrem_df.append(df)\n",
    "\n",
    "nrem_df = pd.concat(nrem_df, ignore_index=True)"
   ]
  },
  {
   "cell_type": "code",
   "execution_count": null,
   "metadata": {
    "jupyter": {
     "source_hidden": true
    }
   },
   "outputs": [],
   "source": [
    "nrem_dur_all / (8 * 5 * 3600)"
   ]
  },
  {
   "cell_type": "code",
   "execution_count": null,
   "metadata": {
    "jupyter": {
     "source_hidden": true
    }
   },
   "outputs": [],
   "source": [
    "_, ax = plt.subplots()\n",
    "\n",
    "sns.stripplot(data=nrem_df, x=\"grp\", y=\"nrem_perc\")"
   ]
  }
 ],
 "metadata": {
  "interpreter": {
   "hash": "cce1618081139d19eb1ee8d40815d94a2de4f62e1efb20d9406ddb60628c36ae"
  },
  "kernelspec": {
   "display_name": "Python 3 (ipykernel)",
   "language": "python",
   "name": "python3"
  },
  "language_info": {
   "codemirror_mode": {
    "name": "ipython",
    "version": 3
   },
   "file_extension": ".py",
   "mimetype": "text/x-python",
   "name": "python",
   "nbconvert_exporter": "python",
   "pygments_lexer": "ipython3",
   "version": "3.11.6"
  },
  "widgets": {
   "application/vnd.jupyter.widget-state+json": {
    "state": {},
    "version_major": 2,
    "version_minor": 0
   }
  }
 },
 "nbformat": 4,
 "nbformat_minor": 4
}
